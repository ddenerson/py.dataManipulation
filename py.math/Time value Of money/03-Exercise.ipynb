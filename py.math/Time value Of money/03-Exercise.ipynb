{
 "cells": [
  {
   "cell_type": "markdown",
   "metadata": {},
   "source": [
    "![invest](https://user-images.githubusercontent.com/33932398/99492448-5da0ba80-294c-11eb-9bfb-b3bb6649eacf.png)"
   ]
  },
  {
   "cell_type": "markdown",
   "metadata": {},
   "source": [
    "![invest2](https://user-images.githubusercontent.com/33932398/99492597-a2c4ec80-294c-11eb-9a22-65a6421fda3b.png)"
   ]
  },
  {
   "cell_type": "markdown",
   "metadata": {},
   "source": [
    "![invest3](https://user-images.githubusercontent.com/33932398/99492996-3bf40300-294d-11eb-8801-125262c41f99.png)"
   ]
  },
  {
   "cell_type": "markdown",
   "metadata": {},
   "source": [
    "\n",
    "![invest4](https://user-images.githubusercontent.com/33932398/99493231-9c834000-294d-11eb-8250-6a0630255806.png)"
   ]
  },
  {
   "cell_type": "markdown",
   "metadata": {},
   "source": [
    "# Coding Exercises "
   ]
  },
  {
   "cell_type": "markdown",
   "metadata": {},
   "source": [
    "Now, you will have the opportunity to practice what you have learned. <br>\n",
    "__Follow the instructions__ and insert your code! "
   ]
  },
  {
   "cell_type": "markdown",
   "metadata": {},
   "source": [
    "## Exercise: While Loops, Conditional Statements, IRR and YTM"
   ]
  },
  {
   "cell_type": "markdown",
   "metadata": {},
   "source": [
    "The ABC Company has a mature project with declining revenues and increasing costs. Net Cashflows are projected as follows:\n",
    "\n",
    "- 500 in year 1,\n",
    "- 350 in year 2, \n",
    "- 200 in year 3,\n",
    "- 50 in year 4,\n",
    "- -100 in year 5,\n",
    "- -200 in year 6"
   ]
  },
  {
   "cell_type": "markdown",
   "metadata": {},
   "source": [
    "1. Separate __positive__ and __negative__ cashflows. __Create two new lists__!"
   ]
  },
  {
   "cell_type": "code",
   "execution_count": 1,
   "metadata": {},
   "outputs": [],
   "source": [
    "#run the cell\n",
    "cf = [500, 350, 200, 50, -100, -200]"
   ]
  },
  {
   "cell_type": "code",
   "execution_count": 2,
   "metadata": {},
   "outputs": [],
   "source": [
    "cf_pos =[]\n",
    "cf_neg =[]\n",
    "\n",
    "for i in cf:\n",
    "    if i > 0:\n",
    "        cf_pos.append(i)\n",
    "    else:\n",
    "        cf_neg.append(i)\n",
    "    \n",
    "    \n",
    "    \n",
    "    \n",
    "    \n",
    "    \n",
    "    "
   ]
  },
  {
   "cell_type": "code",
   "execution_count": 19,
   "metadata": {},
   "outputs": [
    {
     "name": "stdout",
     "output_type": "stream",
     "text": [
      "Positivo [500, 350, 200, 50]\n",
      "Negativo [-100, -200]\n"
     ]
    }
   ],
   "source": [
    "print(\"Positivo {}\".format(cf_pos))\n",
    "print(\"Negativo {}\".format(cf_neg))"
   ]
  },
  {
   "cell_type": "markdown",
   "metadata": {},
   "source": [
    "2. Get the __first unprofitable year__. Your Code should return the statement __\"Year ... is the first unprofitable Year!\"__ "
   ]
  },
  {
   "cell_type": "code",
   "execution_count": 38,
   "metadata": {},
   "outputs": [
    {
     "name": "stdout",
     "output_type": "stream",
     "text": [
      "Year 5 is the first unprofitable Year \n"
     ]
    }
   ],
   "source": [
    "years = [n for n in range(1,7)]\n",
    "company = {years[i]:cf[i] for i in range(len(years))}\n",
    "unpro = []\n",
    "\n",
    "for key,value in company.items():\n",
    "    if value < 0:\n",
    "         unpro.append(key)\n",
    "\n",
    "\n",
    "print(\"Year {} is the first unprofitable Year \".format(unpro[0]))\n",
    "\n",
    "    \n",
    "\n"
   ]
  },
  {
   "cell_type": "markdown",
   "metadata": {},
   "source": [
    "3. Get the __last profitable year__. Your Code should return the statement __\"Year ... is the last profitable Year!\"__ "
   ]
  },
  {
   "cell_type": "code",
   "execution_count": 42,
   "metadata": {},
   "outputs": [
    {
     "name": "stdout",
     "output_type": "stream",
     "text": [
      "Year 4 is the first profitable Year \n"
     ]
    }
   ],
   "source": [
    "prof = []\n",
    "for key,value in company.items():\n",
    "    if value > 0:\n",
    "         prof.append(key)\n",
    "\n",
    "print(\"Year {} is the first profitable Year \".format(prof[3]))"
   ]
  },
  {
   "cell_type": "markdown",
   "metadata": {},
   "source": [
    "The __modulo operator %__ returns the __remainder__ of the division between two numbers. For instance, 5 % 3 returns 2. "
   ]
  },
  {
   "cell_type": "markdown",
   "metadata": {},
   "source": [
    "The ABC Company evaluates to buy an additional machine that will increase profits/cashflows by\n",
    "- 50 USD in year 1,\n",
    "- 75 USD in year 2 ,\n",
    "- 100 USD in year 3, \n",
    "- 150 USD in year 4,\n",
    "- 125 USD in year 5. (each cf at period´s end)\n",
    "\n",
    "The machine costs 450 USD (Investment in to). "
   ]
  },
  {
   "cell_type": "markdown",
   "metadata": {},
   "source": [
    "5. Calculate the __Project´s IRR__ and evaluate whether ABC should pursue the project. ABCs required rate of return is 6% p.a."
   ]
  },
  {
   "cell_type": "code",
   "execution_count": null,
   "metadata": {},
   "outputs": [],
   "source": [
    "cf = [-450, 50, 75, 100, 150, 125]\n",
    "guess = 0.06\n",
    "step = 0.000001\n",
    "target_npv = 0\n",
    "tolerance = 0.001 \n",
    "\n",
    "while True:\n",
    "    f = 1 + guess\n",
    "    NPV = 0\n",
    "    for i in range(len(cf)):\n",
    "        NPV += cf[i] / f**(i)\n",
    "    diff = NPV - target_npv\n",
    "    \n",
    "    if abs(diff) > tolerance:\n",
    "        if diff < 0:\n",
    "            guess -= step\n",
    "        elif diff > 0:\n",
    "            guess += step\n",
    "    else:\n",
    "        break\n",
    "        \n"
   ]
  },
  {
   "cell_type": "code",
   "execution_count": null,
   "metadata": {},
   "outputs": [],
   "source": [
    "print(NPV,guess)"
   ]
  },
  {
   "cell_type": "markdown",
   "metadata": {},
   "source": [
    "(result: 3.12%)"
   ]
  }
 ],
 "metadata": {
  "kernelspec": {
   "display_name": "Python 3",
   "language": "python",
   "name": "python3"
  },
  "language_info": {
   "codemirror_mode": {
    "name": "ipython",
    "version": 3
   },
   "file_extension": ".py",
   "mimetype": "text/x-python",
   "name": "python",
   "nbconvert_exporter": "python",
   "pygments_lexer": "ipython3",
   "version": "3.8.3"
  }
 },
 "nbformat": 4,
 "nbformat_minor": 2
}
