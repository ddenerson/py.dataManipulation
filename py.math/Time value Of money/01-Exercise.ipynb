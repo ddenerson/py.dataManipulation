{
 "cells": [
  {
   "cell_type": "markdown",
   "metadata": {},
   "source": [
    "![Screenshot_2020-11-12 PowerPoint Presentation - TVM pdf](https://user-images.githubusercontent.com/33932398/98984067-73535180-2500-11eb-81dd-f7e8acb430f3.png)"
   ]
  },
  {
   "cell_type": "markdown",
   "metadata": {},
   "source": [
    "![Screenshot_2020-11-12 PowerPoint Presentation - TVM pdf(1)](https://user-images.githubusercontent.com/33932398/98984150-92ea7a00-2500-11eb-84c0-7c17d4872580.png)"
   ]
  },
  {
   "cell_type": "markdown",
   "metadata": {},
   "source": [
    "![Screenshot_2020-11-12 PowerPoint Presentation - TVM pdf(2)](https://user-images.githubusercontent.com/33932398/98984222-ab5a9480-2500-11eb-8bae-1f57e2108f58.png)\n"
   ]
  },
  {
   "cell_type": "markdown",
   "metadata": {},
   "source": [
    "# Coding Exercises "
   ]
  },
  {
   "cell_type": "markdown",
   "metadata": {},
   "source": [
    "--------------------------------------------------------------------------------------------------------------"
   ]
  },
  {
   "cell_type": "markdown",
   "metadata": {},
   "source": [
    "## Exercise 1: Using Python as a Calculator for TVM Problems"
   ]
  },
  {
   "cell_type": "markdown",
   "metadata": {},
   "source": [
    "Use __variables__ where appropriate! __Input__ values and your __final results__ shall be stored in variables. "
   ]
  },
  {
   "cell_type": "markdown",
   "metadata": {},
   "source": [
    "1. You save 2,000 USD for 7 years at an interst rate of 4% p.a.. Calculate the value of your account in 7 Years (__Future Value__)!"
   ]
  },
  {
   "cell_type": "code",
   "execution_count": 76,
   "metadata": {},
   "outputs": [
    {
     "name": "stdout",
     "output_type": "stream",
     "text": [
      "Future Value: 2631.86 USD\n"
     ]
    }
   ],
   "source": [
    "present_value = 2000\n",
    "interest_rate = 1.04\n",
    "num_of_periods = 7\n",
    "\n",
    "future_value = present_value*interest_rate**num_of_periods\n",
    "print(\"Future Value:\",round(future_value,2),\"USD\")"
   ]
  },
  {
   "cell_type": "markdown",
   "metadata": {},
   "source": [
    "(result: 2631.86 USD)"
   ]
  },
  {
   "cell_type": "code",
   "execution_count": null,
   "metadata": {},
   "outputs": [],
   "source": []
  },
  {
   "cell_type": "markdown",
   "metadata": {},
   "source": [
    "2. You consider to purchase a car in 4 years for 20,000 USD. How many USD do you have to save today (__Present Value__) in your savings account to have 20,000 USD in 4 years? Assume an interst rate of 3.5% p.a. "
   ]
  },
  {
   "cell_type": "code",
   "execution_count": 77,
   "metadata": {},
   "outputs": [],
   "source": [
    "future_value = 20000\n",
    "interest_rate = 1.035\n",
    "num_of_periods= 4\n",
    "present_value = future_value/(interest_rate**num_of_periods)"
   ]
  },
  {
   "cell_type": "code",
   "execution_count": 78,
   "metadata": {},
   "outputs": [
    {
     "name": "stdout",
     "output_type": "stream",
     "text": [
      "Present Value: 17428.84 USD\n"
     ]
    }
   ],
   "source": [
    "print(\"Present Value:\",round(present_value,2),\"USD\")"
   ]
  },
  {
   "cell_type": "markdown",
   "metadata": {},
   "source": [
    "(result: 17,428.84 USD)"
   ]
  },
  {
   "cell_type": "markdown",
   "metadata": {},
   "source": [
    "![Screenshot_2020-11-12 PowerPoint Presentation - Interest_Rates pdf](https://user-images.githubusercontent.com/33932398/98985805-d8a84200-2502-11eb-9acd-fe80fa0bd68a.png)"
   ]
  },
  {
   "cell_type": "markdown",
   "metadata": {},
   "source": [
    "![Screenshot_2020-11-12 PowerPoint Presentation - Interest_Rates pdf(1)](https://user-images.githubusercontent.com/33932398/98986315-81ef3800-2503-11eb-88fa-882743a86faa.png)"
   ]
  },
  {
   "cell_type": "markdown",
   "metadata": {},
   "source": [
    "![Screenshot_2020-11-12 PowerPoint Presentation - Interest_Rates pdf(2)](https://user-images.githubusercontent.com/33932398/98986546-d09cd200-2503-11eb-93dd-91cc8cae6c87.png)"
   ]
  },
  {
   "cell_type": "markdown",
   "metadata": {},
   "source": [
    "3. Bank B offers you to save 10,000 USD today, getting back 15,000 USD in 10 Years. Calculate the __per annum compound interest rate__. Bank A offers you an interest rate of 4.5% p.a.. Which offer should you accept?"
   ]
  },
  {
   "cell_type": "code",
   "execution_count": 83,
   "metadata": {},
   "outputs": [],
   "source": [
    "present_value = 10000\n",
    "future_value  = 15000\n",
    "num_of_periods= 10\n",
    "\n",
    "interest_rate = ((future_value/present_value)** (1/num_of_periods) - 1) * 100"
   ]
  },
  {
   "cell_type": "code",
   "execution_count": 84,
   "metadata": {},
   "outputs": [
    {
     "name": "stdout",
     "output_type": "stream",
     "text": [
      "Interest Rate 4.14 %\n"
     ]
    }
   ],
   "source": [
    "print(\"Interest Rate\",round(interest_rate,2),\"%\")"
   ]
  },
  {
   "cell_type": "markdown",
   "metadata": {},
   "source": [
    "(result: 4.14%)"
   ]
  },
  {
   "cell_type": "code",
   "execution_count": null,
   "metadata": {},
   "outputs": [],
   "source": []
  },
  {
   "cell_type": "markdown",
   "metadata": {},
   "source": [
    "4. One year ago you invested 976 USD in the ABC stock. Recently you received a 40 USD Dividend Payment and the current value of your ABC stock investment is 1,053 USD. Calculate the __Price Return__! "
   ]
  },
  {
   "cell_type": "code",
   "execution_count": 85,
   "metadata": {},
   "outputs": [],
   "source": [
    "old_values = 976\n",
    "current_value = 1053\n",
    "price_return = ((current_value - old_values)/old_values) * 100"
   ]
  },
  {
   "cell_type": "code",
   "execution_count": 100,
   "metadata": {},
   "outputs": [
    {
     "name": "stdout",
     "output_type": "stream",
     "text": [
      "Price Return: 7.89 %\n"
     ]
    }
   ],
   "source": [
    "print(\"Price Return:\",round(price_return,2),\"%\")"
   ]
  },
  {
   "cell_type": "code",
   "execution_count": null,
   "metadata": {},
   "outputs": [],
   "source": []
  },
  {
   "cell_type": "markdown",
   "metadata": {},
   "source": [
    "(result: 7.89%)"
   ]
  },
  {
   "cell_type": "code",
   "execution_count": null,
   "metadata": {},
   "outputs": [],
   "source": []
  },
  {
   "cell_type": "markdown",
   "metadata": {},
   "source": [
    "5. Calculate __Dividend Yield__ and __Total Return__ for your ABC stock investment!"
   ]
  },
  {
   "cell_type": "code",
   "execution_count": 101,
   "metadata": {},
   "outputs": [],
   "source": [
    "dividend_payment = 40\n",
    "old_values = 976\n",
    "current_value = 1053\n",
    "dividend_yield = (dividend_payment/old_values) * 100\n",
    "total_returns  = ((current_value + dividend_payment)/old_values-1) * 100"
   ]
  },
  {
   "cell_type": "code",
   "execution_count": 103,
   "metadata": {},
   "outputs": [
    {
     "name": "stdout",
     "output_type": "stream",
     "text": [
      "Dividend Yield: 4.1 % |Total Return: 11.99 %\n"
     ]
    }
   ],
   "source": [
    "print(\"Dividend Yield:\",round(dividend_yield,2),\"% |Total Return:\",round(total_returns,2),\"%\")\n"
   ]
  },
  {
   "cell_type": "code",
   "execution_count": null,
   "metadata": {},
   "outputs": [],
   "source": []
  },
  {
   "cell_type": "markdown",
   "metadata": {},
   "source": [
    "(results: 4.10% and 11.99%)"
   ]
  },
  {
   "cell_type": "markdown",
   "metadata": {},
   "source": [
    "6. Print Price Return, Dividend Yield and Total Return in one single line, __separated by commas__!"
   ]
  },
  {
   "cell_type": "code",
   "execution_count": 104,
   "metadata": {},
   "outputs": [
    {
     "name": "stdout",
     "output_type": "stream",
     "text": [
      "Price Return: 7.89 % |Dividend Yield: 4.1 % |Total Return: 11.99 %\n"
     ]
    }
   ],
   "source": [
    "print(\"Price Return:\",round(price_return,2),\"% |Dividend Yield:\",round(dividend_yield,2),\"% |Total Return:\",round(total_returns,2),\"%\")\n"
   ]
  },
  {
   "cell_type": "markdown",
   "metadata": {},
   "source": [
    "---------------------------------------------------------------------------------------------------------------------"
   ]
  }
 ],
 "metadata": {
  "kernelspec": {
   "display_name": "Python 3",
   "language": "python",
   "name": "python3"
  },
  "language_info": {
   "codemirror_mode": {
    "name": "ipython",
    "version": 3
   },
   "file_extension": ".py",
   "mimetype": "text/x-python",
   "name": "python",
   "nbconvert_exporter": "python",
   "pygments_lexer": "ipython3",
   "version": "3.8.3"
  }
 },
 "nbformat": 4,
 "nbformat_minor": 2
}
