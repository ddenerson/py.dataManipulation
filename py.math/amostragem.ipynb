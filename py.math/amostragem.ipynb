{
  "nbformat": 4,
  "nbformat_minor": 0,
  "metadata": {
    "colab": {
      "name": "amostragem.ipynb",
      "provenance": [],
      "collapsed_sections": [
        "ZbeJtdfAQkyw",
        "DZxo3vvsQ448",
        "aAi2fhttv-Q-",
        "eXnZwn1l6XJC"
      ],
      "toc_visible": true
    },
    "kernelspec": {
      "display_name": "Python 3",
      "language": "python",
      "name": "python3"
    },
    "language_info": {
      "codemirror_mode": {
        "name": "ipython",
        "version": 3
      },
      "file_extension": ".py",
      "mimetype": "text/x-python",
      "name": "python",
      "nbconvert_exporter": "python",
      "pygments_lexer": "ipython3",
      "version": "3.8.3"
    }
  },
  "cells": [
    {
      "cell_type": "markdown",
      "metadata": {
        "id": "Ywb1nrrF5pMf"
      },
      "source": [
        "### importando bibliotecas "
      ]
    },
    {
      "cell_type": "code",
      "metadata": {
        "id": "SyYG_uOyJ6Lt"
      },
      "source": [
        "import pandas as pd\n",
        "import random\n",
        "import numpy as np\n",
        "from sklearn.model_selection import StratifiedShuffleSplit"
      ],
      "execution_count": null,
      "outputs": []
    },
    {
      "cell_type": "markdown",
      "metadata": {
        "id": "OkNaEG-N5pOK"
      },
      "source": [
        "### importando banco de dados "
      ]
    },
    {
      "cell_type": "code",
      "metadata": {
        "id": "mpjoHFj-9bbt"
      },
      "source": [
        "dataset = pd.read_csv('credit_data.csv')"
      ],
      "execution_count": null,
      "outputs": []
    },
    {
      "cell_type": "markdown",
      "metadata": {
        "id": "3SOqJ5m65pPK"
      },
      "source": [
        "### conferindo o tamanho do banco de dados"
      ]
    },
    {
      "cell_type": "code",
      "metadata": {
        "id": "rp-GLNwM5pPT",
        "outputId": "f96ef95e-9d10-4c9d-8637-01e7aa3eeca6"
      },
      "source": [
        "dataset.shape"
      ],
      "execution_count": null,
      "outputs": [
        {
          "output_type": "execute_result",
          "data": {
            "text/plain": [
              "(2000, 5)"
            ]
          },
          "metadata": {
            "tags": []
          },
          "execution_count": 318
        }
      ]
    },
    {
      "cell_type": "markdown",
      "metadata": {
        "id": "EQBf5Y9k5pQK"
      },
      "source": [
        "### amostragem selecionando 1000 registros aleatoriamente - test"
      ]
    },
    {
      "cell_type": "code",
      "metadata": {
        "id": "hWTsTthe5pQR",
        "outputId": "54fe6fd8-a592-44c7-ec48-9fd3879892cc"
      },
      "source": [
        "df_amostra_alecSimples = dataset.sample(n = 1000)\n",
        "df_amostra_alecSimples.shape"
      ],
      "execution_count": null,
      "outputs": [
        {
          "output_type": "execute_result",
          "data": {
            "text/plain": [
              "(1000, 5)"
            ]
          },
          "metadata": {
            "tags": []
          },
          "execution_count": 319
        }
      ]
    },
    {
      "cell_type": "markdown",
      "metadata": {
        "id": "vFtcs3Bs5pQ4"
      },
      "source": [
        "# Amostragem - aleatoria simples "
      ]
    },
    {
      "cell_type": "markdown",
      "metadata": {
        "id": "75RAj62k5pQ-"
      },
      "source": [
        "### Função de amostragem simples \n",
        "Com a opção de \"random_state\" onde empede que ocorra mudança na     amostra de dados  "
      ]
    },
    {
      "cell_type": "code",
      "metadata": {
        "id": "rKHwxAd85pRH"
      },
      "source": [
        "def amostragem_simples(dataset,amostras):\n",
        "    return dataset.sample(n = amostras,random_state=1)"
      ],
      "execution_count": null,
      "outputs": []
    },
    {
      "cell_type": "code",
      "metadata": {
        "scrolled": true,
        "id": "robMl_4O5pRo",
        "outputId": "f870f5da-a7c8-4d9e-b2ff-519d6c4ea2e0"
      },
      "source": [
        " amostragem_simples(dataset,1000)"
      ],
      "execution_count": null,
      "outputs": [
        {
          "output_type": "execute_result",
          "data": {
            "text/html": [
              "<div>\n",
              "<style scoped>\n",
              "    .dataframe tbody tr th:only-of-type {\n",
              "        vertical-align: middle;\n",
              "    }\n",
              "\n",
              "    .dataframe tbody tr th {\n",
              "        vertical-align: top;\n",
              "    }\n",
              "\n",
              "    .dataframe thead th {\n",
              "        text-align: right;\n",
              "    }\n",
              "</style>\n",
              "<table border=\"1\" class=\"dataframe\">\n",
              "  <thead>\n",
              "    <tr style=\"text-align: right;\">\n",
              "      <th></th>\n",
              "      <th>i#clientid</th>\n",
              "      <th>income</th>\n",
              "      <th>age</th>\n",
              "      <th>loan</th>\n",
              "      <th>c#default</th>\n",
              "    </tr>\n",
              "  </thead>\n",
              "  <tbody>\n",
              "    <tr>\n",
              "      <th>674</th>\n",
              "      <td>675</td>\n",
              "      <td>34158.633968</td>\n",
              "      <td>29.421142</td>\n",
              "      <td>2911.408067</td>\n",
              "      <td>0</td>\n",
              "    </tr>\n",
              "    <tr>\n",
              "      <th>1699</th>\n",
              "      <td>1700</td>\n",
              "      <td>25789.742025</td>\n",
              "      <td>45.316211</td>\n",
              "      <td>4442.331780</td>\n",
              "      <td>0</td>\n",
              "    </tr>\n",
              "    <tr>\n",
              "      <th>1282</th>\n",
              "      <td>1283</td>\n",
              "      <td>59589.064289</td>\n",
              "      <td>20.609764</td>\n",
              "      <td>4191.715856</td>\n",
              "      <td>0</td>\n",
              "    </tr>\n",
              "    <tr>\n",
              "      <th>1315</th>\n",
              "      <td>1316</td>\n",
              "      <td>49908.291867</td>\n",
              "      <td>29.550940</td>\n",
              "      <td>2903.036128</td>\n",
              "      <td>0</td>\n",
              "    </tr>\n",
              "    <tr>\n",
              "      <th>1210</th>\n",
              "      <td>1211</td>\n",
              "      <td>69132.462579</td>\n",
              "      <td>33.471182</td>\n",
              "      <td>7621.410219</td>\n",
              "      <td>0</td>\n",
              "    </tr>\n",
              "    <tr>\n",
              "      <th>...</th>\n",
              "      <td>...</td>\n",
              "      <td>...</td>\n",
              "      <td>...</td>\n",
              "      <td>...</td>\n",
              "      <td>...</td>\n",
              "    </tr>\n",
              "    <tr>\n",
              "      <th>103</th>\n",
              "      <td>104</td>\n",
              "      <td>57296.160823</td>\n",
              "      <td>25.708482</td>\n",
              "      <td>10601.082783</td>\n",
              "      <td>1</td>\n",
              "    </tr>\n",
              "    <tr>\n",
              "      <th>9</th>\n",
              "      <td>10</td>\n",
              "      <td>25075.872771</td>\n",
              "      <td>39.776378</td>\n",
              "      <td>1409.230371</td>\n",
              "      <td>0</td>\n",
              "    </tr>\n",
              "    <tr>\n",
              "      <th>1929</th>\n",
              "      <td>1930</td>\n",
              "      <td>27514.088473</td>\n",
              "      <td>36.278684</td>\n",
              "      <td>192.144611</td>\n",
              "      <td>0</td>\n",
              "    </tr>\n",
              "    <tr>\n",
              "      <th>543</th>\n",
              "      <td>544</td>\n",
              "      <td>55476.656980</td>\n",
              "      <td>52.089203</td>\n",
              "      <td>4733.505830</td>\n",
              "      <td>0</td>\n",
              "    </tr>\n",
              "    <tr>\n",
              "      <th>1542</th>\n",
              "      <td>1543</td>\n",
              "      <td>37895.181733</td>\n",
              "      <td>54.515149</td>\n",
              "      <td>6071.340205</td>\n",
              "      <td>0</td>\n",
              "    </tr>\n",
              "  </tbody>\n",
              "</table>\n",
              "<p>1000 rows × 5 columns</p>\n",
              "</div>"
            ],
            "text/plain": [
              "      i#clientid        income        age          loan  c#default\n",
              "674          675  34158.633968  29.421142   2911.408067          0\n",
              "1699        1700  25789.742025  45.316211   4442.331780          0\n",
              "1282        1283  59589.064289  20.609764   4191.715856          0\n",
              "1315        1316  49908.291867  29.550940   2903.036128          0\n",
              "1210        1211  69132.462579  33.471182   7621.410219          0\n",
              "...          ...           ...        ...           ...        ...\n",
              "103          104  57296.160823  25.708482  10601.082783          1\n",
              "9             10  25075.872771  39.776378   1409.230371          0\n",
              "1929        1930  27514.088473  36.278684    192.144611          0\n",
              "543          544  55476.656980  52.089203   4733.505830          0\n",
              "1542        1543  37895.181733  54.515149   6071.340205          0\n",
              "\n",
              "[1000 rows x 5 columns]"
            ]
          },
          "metadata": {
            "tags": []
          },
          "execution_count": 321
        }
      ]
    },
    {
      "cell_type": "markdown",
      "metadata": {
        "id": "pUv_kZqb5pSO"
      },
      "source": [
        "# Amostragem sistemática\n",
        "\n",
        "Divide o numero da <<população>> pela <<amostra>>. Onde iremos selecionar aleatoriamente um numero, dentro do intervalo do resultado dessa divisão.\n",
        "    \n",
        "    "
      ]
    },
    {
      "cell_type": "markdown",
      "metadata": {
        "id": "lZEkOhmE5pSV"
      },
      "source": [
        "Os proximos números,serão selecionados baseado no resultado da divisão ocorrida no inicio. "
      ]
    },
    {
      "cell_type": "markdown",
      "metadata": {
        "id": "BCxgAG6q5pSY"
      },
      "source": [
        "### Função de amostragem sistematica\n"
      ]
    },
    {
      "cell_type": "code",
      "metadata": {
        "id": "nXJpIfvA5pSb"
      },
      "source": [
        "def amostragem_sistematica(dataset,amostra):\n",
        "    intervalo = len(dataset) // amostra\n",
        "    random.seed(1)\n",
        "    primeiro = random.randint(0,intervalo)\n",
        "    indices = np.arange(primeiro,len(dataset),step = intervalo)\n",
        "    # Passando os índices para um novo date frame onde iremos\n",
        "    # selecionar \n",
        "    amostragem_sistemática = dataset.iloc[indices]\n",
        "    return amostragem_sistemática"
      ],
      "execution_count": null,
      "outputs": []
    },
    {
      "cell_type": "code",
      "metadata": {
        "id": "t_f1ZotT5pSz"
      },
      "source": [
        "amostra_sistematica = amostragem_sistematica(dataset,1000)"
      ],
      "execution_count": null,
      "outputs": []
    },
    {
      "cell_type": "code",
      "metadata": {
        "scrolled": true,
        "id": "OMnEdvq_5pTL",
        "outputId": "93e3ea55-3e53-41d0-cc18-7b2ae07951ec"
      },
      "source": [
        "amostra_sistematica.head()"
      ],
      "execution_count": null,
      "outputs": [
        {
          "output_type": "execute_result",
          "data": {
            "text/html": [
              "<div>\n",
              "<style scoped>\n",
              "    .dataframe tbody tr th:only-of-type {\n",
              "        vertical-align: middle;\n",
              "    }\n",
              "\n",
              "    .dataframe tbody tr th {\n",
              "        vertical-align: top;\n",
              "    }\n",
              "\n",
              "    .dataframe thead th {\n",
              "        text-align: right;\n",
              "    }\n",
              "</style>\n",
              "<table border=\"1\" class=\"dataframe\">\n",
              "  <thead>\n",
              "    <tr style=\"text-align: right;\">\n",
              "      <th></th>\n",
              "      <th>i#clientid</th>\n",
              "      <th>income</th>\n",
              "      <th>age</th>\n",
              "      <th>loan</th>\n",
              "      <th>c#default</th>\n",
              "    </tr>\n",
              "  </thead>\n",
              "  <tbody>\n",
              "    <tr>\n",
              "      <th>0</th>\n",
              "      <td>1</td>\n",
              "      <td>66155.925095</td>\n",
              "      <td>59.017015</td>\n",
              "      <td>8106.532131</td>\n",
              "      <td>0</td>\n",
              "    </tr>\n",
              "    <tr>\n",
              "      <th>2</th>\n",
              "      <td>3</td>\n",
              "      <td>57317.170063</td>\n",
              "      <td>63.108049</td>\n",
              "      <td>8020.953296</td>\n",
              "      <td>0</td>\n",
              "    </tr>\n",
              "    <tr>\n",
              "      <th>4</th>\n",
              "      <td>5</td>\n",
              "      <td>66952.688845</td>\n",
              "      <td>18.584336</td>\n",
              "      <td>8770.099235</td>\n",
              "      <td>1</td>\n",
              "    </tr>\n",
              "    <tr>\n",
              "      <th>6</th>\n",
              "      <td>7</td>\n",
              "      <td>48430.359613</td>\n",
              "      <td>26.809132</td>\n",
              "      <td>5722.581981</td>\n",
              "      <td>0</td>\n",
              "    </tr>\n",
              "    <tr>\n",
              "      <th>8</th>\n",
              "      <td>9</td>\n",
              "      <td>40654.892537</td>\n",
              "      <td>55.496853</td>\n",
              "      <td>4755.825280</td>\n",
              "      <td>0</td>\n",
              "    </tr>\n",
              "  </tbody>\n",
              "</table>\n",
              "</div>"
            ],
            "text/plain": [
              "   i#clientid        income        age         loan  c#default\n",
              "0           1  66155.925095  59.017015  8106.532131          0\n",
              "2           3  57317.170063  63.108049  8020.953296          0\n",
              "4           5  66952.688845  18.584336  8770.099235          1\n",
              "6           7  48430.359613  26.809132  5722.581981          0\n",
              "8           9  40654.892537  55.496853  4755.825280          0"
            ]
          },
          "metadata": {
            "tags": []
          },
          "execution_count": 324
        }
      ]
    },
    {
      "cell_type": "markdown",
      "metadata": {
        "id": "INfysVcx5pTs"
      },
      "source": [
        "# Amostragem por grupos"
      ]
    },
    {
      "cell_type": "markdown",
      "metadata": {
        "id": "snWJ858C5pTw"
      },
      "source": [
        "Defina o tamanho do grupo, e escolha um aleatoriamente  entre eles "
      ]
    },
    {
      "cell_type": "markdown",
      "metadata": {
        "id": "LntroxiF5pTz"
      },
      "source": [
        "### Função de amostragem por grupos\n"
      ]
    },
    {
      "cell_type": "code",
      "metadata": {
        "id": "dDTaWlnC5pT5"
      },
      "source": [
        "def amostragem_sistematica(dataset,divisao_grupo):\n",
        "    # quantidade de elementos dentro do grupo\n",
        "    inter = len(dataset) // divisao_grupo\n",
        "\n",
        "    grupos = []\n",
        "    id_grupo = 0\n",
        "    i = 0\n",
        "    for _ in dataset.iterrows():\n",
        "      # adicioando os id dentro da lista   \n",
        "      grupos.append(id_grupo)\n",
        "      i +=1\n",
        "      # separando os id do grupo \n",
        "      if i > inter:\n",
        "       i = 0\n",
        "       id_grupo += 1\n",
        "     \n",
        "    # adicionando a coluna grupos na tabela\n",
        "    dataset['grupos'] = grupos\n",
        "    # mantendo o mesmo padrão de dados \n",
        "    random.seed(1)\n",
        "    grupo_selecionado = random.randint(0,divisao_grupo)\n",
        "    return dataset[dataset['grupos'] == grupo_selecionado]"
      ],
      "execution_count": null,
      "outputs": []
    },
    {
      "cell_type": "code",
      "metadata": {
        "id": "jA1aWXxv5pUQ"
      },
      "source": [
        "amostra_agrupamento = amostragem_sistematica(dataset,10)"
      ],
      "execution_count": null,
      "outputs": []
    },
    {
      "cell_type": "code",
      "metadata": {
        "scrolled": true,
        "id": "AazNYZ_X5pUv",
        "outputId": "1c49a083-21f8-42f9-de4f-0a6d617b4e25"
      },
      "source": [
        "amostra_agrupamento.head()"
      ],
      "execution_count": null,
      "outputs": [
        {
          "output_type": "execute_result",
          "data": {
            "text/html": [
              "<div>\n",
              "<style scoped>\n",
              "    .dataframe tbody tr th:only-of-type {\n",
              "        vertical-align: middle;\n",
              "    }\n",
              "\n",
              "    .dataframe tbody tr th {\n",
              "        vertical-align: top;\n",
              "    }\n",
              "\n",
              "    .dataframe thead th {\n",
              "        text-align: right;\n",
              "    }\n",
              "</style>\n",
              "<table border=\"1\" class=\"dataframe\">\n",
              "  <thead>\n",
              "    <tr style=\"text-align: right;\">\n",
              "      <th></th>\n",
              "      <th>i#clientid</th>\n",
              "      <th>income</th>\n",
              "      <th>age</th>\n",
              "      <th>loan</th>\n",
              "      <th>c#default</th>\n",
              "      <th>grupos</th>\n",
              "    </tr>\n",
              "  </thead>\n",
              "  <tbody>\n",
              "    <tr>\n",
              "      <th>402</th>\n",
              "      <td>403</td>\n",
              "      <td>58079.156901</td>\n",
              "      <td>18.663027</td>\n",
              "      <td>11540.045812</td>\n",
              "      <td>1</td>\n",
              "      <td>2</td>\n",
              "    </tr>\n",
              "    <tr>\n",
              "      <th>403</th>\n",
              "      <td>404</td>\n",
              "      <td>62192.467069</td>\n",
              "      <td>46.050789</td>\n",
              "      <td>1863.891003</td>\n",
              "      <td>0</td>\n",
              "      <td>2</td>\n",
              "    </tr>\n",
              "    <tr>\n",
              "      <th>404</th>\n",
              "      <td>405</td>\n",
              "      <td>62553.668411</td>\n",
              "      <td>63.924976</td>\n",
              "      <td>4641.704785</td>\n",
              "      <td>0</td>\n",
              "      <td>2</td>\n",
              "    </tr>\n",
              "    <tr>\n",
              "      <th>405</th>\n",
              "      <td>406</td>\n",
              "      <td>68147.957318</td>\n",
              "      <td>22.984394</td>\n",
              "      <td>12307.562323</td>\n",
              "      <td>1</td>\n",
              "      <td>2</td>\n",
              "    </tr>\n",
              "    <tr>\n",
              "      <th>406</th>\n",
              "      <td>407</td>\n",
              "      <td>27619.661407</td>\n",
              "      <td>47.540506</td>\n",
              "      <td>2774.832781</td>\n",
              "      <td>0</td>\n",
              "      <td>2</td>\n",
              "    </tr>\n",
              "  </tbody>\n",
              "</table>\n",
              "</div>"
            ],
            "text/plain": [
              "     i#clientid        income        age          loan  c#default  grupos\n",
              "402         403  58079.156901  18.663027  11540.045812          1       2\n",
              "403         404  62192.467069  46.050789   1863.891003          0       2\n",
              "404         405  62553.668411  63.924976   4641.704785          0       2\n",
              "405         406  68147.957318  22.984394  12307.562323          1       2\n",
              "406         407  27619.661407  47.540506   2774.832781          0       2"
            ]
          },
          "metadata": {
            "tags": []
          },
          "execution_count": 327
        }
      ]
    },
    {
      "cell_type": "markdown",
      "metadata": {
        "id": "Alo8nrSv5pVW"
      },
      "source": [
        "# Amostragem por estratificada"
      ]
    },
    {
      "cell_type": "markdown",
      "metadata": {
        "id": "w1gLPS-n5pVd"
      },
      "source": [
        "A inteção e retornar proporcionalmente a mesma quantidade com dados distintos  "
      ]
    },
    {
      "cell_type": "code",
      "metadata": {
        "id": "3Ij0rd4x5pVh"
      },
      "source": [
        "\n",
        "def amostragem_estratificada(dataset,percentual,campo):\n",
        "\n",
        "# Indicando o percentual da amostra que iremos dividir na base de dados\n",
        "\n",
        "    split = StratifiedShuffleSplit(test_size=percentual,random_state=1)\n",
        "    \n",
        "# Passando a base de dados que queremos a divisão,e o \n",
        "# campo da tabela que ocorre essa divisão\n",
        "\n",
        "    for __, y in split.split(dataset, dataset[campo]):\n",
        "        df_y = dataset.iloc[y]    \n",
        "    return df_y           "
      ],
      "execution_count": null,
      "outputs": []
    },
    {
      "cell_type": "code",
      "metadata": {
        "id": "dJOR_XST5pV1"
      },
      "source": [
        "amostragem_estratificada = amostragem_estratificada(dataset,0.5,'c#default')\n",
        "\n",
        "\n"
      ],
      "execution_count": null,
      "outputs": []
    },
    {
      "cell_type": "code",
      "metadata": {
        "scrolled": false,
        "id": "XBXeolBR5pWG",
        "outputId": "ad4d12a7-b056-4c01-a2d1-5e4a8111efd2"
      },
      "source": [
        "amostragem_estratificada.head()"
      ],
      "execution_count": null,
      "outputs": [
        {
          "output_type": "execute_result",
          "data": {
            "text/html": [
              "<div>\n",
              "<style scoped>\n",
              "    .dataframe tbody tr th:only-of-type {\n",
              "        vertical-align: middle;\n",
              "    }\n",
              "\n",
              "    .dataframe tbody tr th {\n",
              "        vertical-align: top;\n",
              "    }\n",
              "\n",
              "    .dataframe thead th {\n",
              "        text-align: right;\n",
              "    }\n",
              "</style>\n",
              "<table border=\"1\" class=\"dataframe\">\n",
              "  <thead>\n",
              "    <tr style=\"text-align: right;\">\n",
              "      <th></th>\n",
              "      <th>i#clientid</th>\n",
              "      <th>income</th>\n",
              "      <th>age</th>\n",
              "      <th>loan</th>\n",
              "      <th>c#default</th>\n",
              "    </tr>\n",
              "  </thead>\n",
              "  <tbody>\n",
              "    <tr>\n",
              "      <th>1374</th>\n",
              "      <td>1375</td>\n",
              "      <td>35916.704154</td>\n",
              "      <td>53.540443</td>\n",
              "      <td>6401.189486</td>\n",
              "      <td>0</td>\n",
              "    </tr>\n",
              "    <tr>\n",
              "      <th>253</th>\n",
              "      <td>254</td>\n",
              "      <td>25259.401631</td>\n",
              "      <td>39.739766</td>\n",
              "      <td>4341.008082</td>\n",
              "      <td>0</td>\n",
              "    </tr>\n",
              "    <tr>\n",
              "      <th>1149</th>\n",
              "      <td>1150</td>\n",
              "      <td>56317.082820</td>\n",
              "      <td>24.653482</td>\n",
              "      <td>8045.440953</td>\n",
              "      <td>1</td>\n",
              "    </tr>\n",
              "    <tr>\n",
              "      <th>1453</th>\n",
              "      <td>1454</td>\n",
              "      <td>28630.009508</td>\n",
              "      <td>27.291530</td>\n",
              "      <td>4406.995056</td>\n",
              "      <td>1</td>\n",
              "    </tr>\n",
              "    <tr>\n",
              "      <th>1929</th>\n",
              "      <td>1930</td>\n",
              "      <td>27514.088473</td>\n",
              "      <td>36.278684</td>\n",
              "      <td>192.144611</td>\n",
              "      <td>0</td>\n",
              "    </tr>\n",
              "  </tbody>\n",
              "</table>\n",
              "</div>"
            ],
            "text/plain": [
              "      i#clientid        income        age         loan  c#default\n",
              "1374        1375  35916.704154  53.540443  6401.189486          0\n",
              "253          254  25259.401631  39.739766  4341.008082          0\n",
              "1149        1150  56317.082820  24.653482  8045.440953          1\n",
              "1453        1454  28630.009508  27.291530  4406.995056          1\n",
              "1929        1930  27514.088473  36.278684   192.144611          0"
            ]
          },
          "metadata": {
            "tags": []
          },
          "execution_count": 340
        }
      ]
    },
    {
      "cell_type": "markdown",
      "metadata": {
        "id": "mThGZB595pWa"
      },
      "source": [
        "## Comparativo da média  utilizando os    atributos\n",
        "  ####    - Age  -             -  Income   -                           - Loan  -"
      ]
    },
    {
      "cell_type": "code",
      "metadata": {
        "id": "a8ghF7Bf5pWe",
        "outputId": "16cdf96f-e52f-4787-8f72-cf8ae35357af"
      },
      "source": [
        "\n",
        "dataset['age'].mean(),dataset['income'].mean(),dataset['loan'].mean()"
      ],
      "execution_count": null,
      "outputs": [
        {
          "output_type": "execute_result",
          "data": {
            "text/plain": [
              "(40.80755937840458, 45331.60001779331, 4444.369694688262)"
            ]
          },
          "metadata": {
            "tags": []
          },
          "execution_count": 331
        }
      ]
    },
    {
      "cell_type": "code",
      "metadata": {
        "id": "Sq1BLc0U5pW3",
        "outputId": "536c9e04-23d6-4afd-b5b3-bb3fa1a304c0"
      },
      "source": [
        "df_amostra_alecSimples['age'].mean() ,df_amostra_alecSimples['income'].mean(),df_amostra_alecSimples['loan'].mean() \n"
      ],
      "execution_count": null,
      "outputs": [
        {
          "output_type": "execute_result",
          "data": {
            "text/plain": [
              "(40.91944773497947, 45237.61991843345, 4393.960421379734)"
            ]
          },
          "metadata": {
            "tags": []
          },
          "execution_count": 332
        }
      ]
    },
    {
      "cell_type": "code",
      "metadata": {
        "id": "XCd1d2HY5pXG",
        "outputId": "c4425d8d-e130-4543-ae94-0b21e5295ef7"
      },
      "source": [
        "amostra_sistematica['age'].mean() , amostra_sistematica['income'].mean() , amostra_sistematica['loan'].mean() "
      ],
      "execution_count": null,
      "outputs": [
        {
          "output_type": "execute_result",
          "data": {
            "text/plain": [
              "(40.91117381141754, 45691.498750669496, 4506.787976426329)"
            ]
          },
          "metadata": {
            "tags": []
          },
          "execution_count": 333
        }
      ]
    },
    {
      "cell_type": "code",
      "metadata": {
        "id": "lJ4hntLQ5pXj",
        "outputId": "f1825b0a-26fd-438f-f703-165e2a1de5af"
      },
      "source": [
        "amostra_agrupamento['age'].mean(), amostra_agrupamento['income'].mean(), amostra_agrupamento['loan'].mean() "
      ],
      "execution_count": null,
      "outputs": [
        {
          "output_type": "execute_result",
          "data": {
            "text/plain": [
              "(40.439136696499844, 45978.72890811182, 4675.000381870198)"
            ]
          },
          "metadata": {
            "tags": []
          },
          "execution_count": 334
        }
      ]
    },
    {
      "cell_type": "code",
      "metadata": {
        "id": "ZwUKO9cg5pX0",
        "outputId": "202e6163-22f1-4e58-d210-15b162807e1a"
      },
      "source": [
        "amostragem_estratificada['age'].mean(), amostragem_estratificada['income'].mean(), amostragem_estratificada['loan'].mean() "
      ],
      "execution_count": null,
      "outputs": [
        {
          "output_type": "execute_result",
          "data": {
            "text/plain": [
              "(40.53363707173919, 45101.36675026739, 4423.744651094196)"
            ]
          },
          "metadata": {
            "tags": []
          },
          "execution_count": 335
        }
      ]
    }
  ]
}
