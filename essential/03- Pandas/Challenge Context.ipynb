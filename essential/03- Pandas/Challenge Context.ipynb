{
 "cells": [
  {
   "cell_type": "markdown",
   "metadata": {},
   "source": [
    "# Challenge Context - Kyros Data Engineer Internship "
   ]
  },
  {
   "cell_type": "markdown",
   "metadata": {},
   "source": [
    "### Challenge 1:"
   ]
  },
  {
   "cell_type": "code",
   "execution_count": 160,
   "metadata": {},
   "outputs": [],
   "source": [
    "import pandas as pd\n",
    "import numpy as  np\n",
    "import datetime as datetime\n",
    "import geopy.distance\n",
    "from dataprep.clean import clean_lat_long"
   ]
  },
  {
   "cell_type": "markdown",
   "metadata": {},
   "source": [
    "#### Get the attachment dataset and upload it in any database’s table (on-premise or on-cloud provider)"
   ]
  },
  {
   "cell_type": "code",
   "execution_count": 161,
   "metadata": {},
   "outputs": [],
   "source": [
    "dados = pd.read_excel('Data_Enginner_Challenge_Dataset.xlsx')"
   ]
  },
  {
   "cell_type": "code",
   "execution_count": 162,
   "metadata": {},
   "outputs": [
    {
     "data": {
      "text/plain": [
       "Index(['Location', 'Longitude', 'Latitude', 'Arrived',\n",
       "       'Gallons of Gas in Tank at Arrival', 'Departed',\n",
       "       'Gallons of Gas in Tank at Departure'],\n",
       "      dtype='object')"
      ]
     },
     "execution_count": 162,
     "metadata": {},
     "output_type": "execute_result"
    }
   ],
   "source": [
    "dados.columns"
   ]
  },
  {
   "cell_type": "code",
   "execution_count": 163,
   "metadata": {},
   "outputs": [
    {
     "data": {
      "text/html": [
       "<div>\n",
       "<style scoped>\n",
       "    .dataframe tbody tr th:only-of-type {\n",
       "        vertical-align: middle;\n",
       "    }\n",
       "\n",
       "    .dataframe tbody tr th {\n",
       "        vertical-align: top;\n",
       "    }\n",
       "\n",
       "    .dataframe thead th {\n",
       "        text-align: right;\n",
       "    }\n",
       "</style>\n",
       "<table border=\"1\" class=\"dataframe\">\n",
       "  <thead>\n",
       "    <tr style=\"text-align: right;\">\n",
       "      <th></th>\n",
       "      <th>Location</th>\n",
       "      <th>Longitude</th>\n",
       "      <th>Latitude</th>\n",
       "      <th>Arrived</th>\n",
       "      <th>Gallons of Gas in Tank at Arrival</th>\n",
       "      <th>Departed</th>\n",
       "      <th>Gallons of Gas in Tank at Departure</th>\n",
       "    </tr>\n",
       "  </thead>\n",
       "  <tbody>\n",
       "    <tr>\n",
       "      <th>0</th>\n",
       "      <td>1</td>\n",
       "      <td>-75.948486</td>\n",
       "      <td>41.054502</td>\n",
       "      <td>NaN</td>\n",
       "      <td>NaN</td>\n",
       "      <td>7.16.19 7:33</td>\n",
       "      <td>16.0</td>\n",
       "    </tr>\n",
       "    <tr>\n",
       "      <th>1</th>\n",
       "      <td>2</td>\n",
       "      <td>-80.837402</td>\n",
       "      <td>41.112469</td>\n",
       "      <td>7.16.19 13:02</td>\n",
       "      <td>6.8</td>\n",
       "      <td>7.16.19 13:48</td>\n",
       "      <td>16.0</td>\n",
       "    </tr>\n",
       "    <tr>\n",
       "      <th>2</th>\n",
       "      <td>3</td>\n",
       "      <td>-82.122803</td>\n",
       "      <td>41.393294</td>\n",
       "      <td>7.16.19 15:10</td>\n",
       "      <td>13.7</td>\n",
       "      <td>7.16.19 15:17</td>\n",
       "      <td>13.7</td>\n",
       "    </tr>\n",
       "    <tr>\n",
       "      <th>3</th>\n",
       "      <td>4</td>\n",
       "      <td>-85.034180</td>\n",
       "      <td>41.697526</td>\n",
       "      <td>7.16.19 17:38</td>\n",
       "      <td>8.6</td>\n",
       "      <td>7.16.19 19:09</td>\n",
       "      <td>8.6</td>\n",
       "    </tr>\n",
       "    <tr>\n",
       "      <th>4</th>\n",
       "      <td>5</td>\n",
       "      <td>-87.297363</td>\n",
       "      <td>41.574361</td>\n",
       "      <td>7.16.19 21:40</td>\n",
       "      <td>4.1</td>\n",
       "      <td>7.17.19 7:46</td>\n",
       "      <td>16.0</td>\n",
       "    </tr>\n",
       "    <tr>\n",
       "      <th>5</th>\n",
       "      <td>6</td>\n",
       "      <td>-89.187012</td>\n",
       "      <td>41.368564</td>\n",
       "      <td>7.17.19 9:22</td>\n",
       "      <td>13.0</td>\n",
       "      <td>7.17.19 9:46</td>\n",
       "      <td>13.0</td>\n",
       "    </tr>\n",
       "    <tr>\n",
       "      <th>6</th>\n",
       "      <td>7</td>\n",
       "      <td>-91.647949</td>\n",
       "      <td>41.672912</td>\n",
       "      <td>7.17.19 12:28</td>\n",
       "      <td>8.2</td>\n",
       "      <td>7.17.19 13:06</td>\n",
       "      <td>8.2</td>\n",
       "    </tr>\n",
       "    <tr>\n",
       "      <th>7</th>\n",
       "      <td>8</td>\n",
       "      <td>-93.614502</td>\n",
       "      <td>41.607228</td>\n",
       "      <td>7.17.19 14:41</td>\n",
       "      <td>4.9</td>\n",
       "      <td>7.17.19 14:46</td>\n",
       "      <td>16.0</td>\n",
       "    </tr>\n",
       "    <tr>\n",
       "      <th>8</th>\n",
       "      <td>9</td>\n",
       "      <td>-95.910645</td>\n",
       "      <td>41.483891</td>\n",
       "      <td>7.17.19 16:57</td>\n",
       "      <td>12.2</td>\n",
       "      <td>7.17.19 17:53</td>\n",
       "      <td>12.2</td>\n",
       "    </tr>\n",
       "    <tr>\n",
       "      <th>9</th>\n",
       "      <td>10</td>\n",
       "      <td>-96.405029</td>\n",
       "      <td>42.463993</td>\n",
       "      <td>7.17.19 19:01</td>\n",
       "      <td>9.7</td>\n",
       "      <td>7.17.19 19:14</td>\n",
       "      <td>9.7</td>\n",
       "    </tr>\n",
       "    <tr>\n",
       "      <th>10</th>\n",
       "      <td>11</td>\n",
       "      <td>-98.448486</td>\n",
       "      <td>42.317939</td>\n",
       "      <td>7.17.19 21:05</td>\n",
       "      <td>6.3</td>\n",
       "      <td>7.18.19 8:35</td>\n",
       "      <td>16.0</td>\n",
       "    </tr>\n",
       "    <tr>\n",
       "      <th>11</th>\n",
       "      <td>12</td>\n",
       "      <td>-100.788574</td>\n",
       "      <td>42.892064</td>\n",
       "      <td>7.18.19 10:51</td>\n",
       "      <td>11.6</td>\n",
       "      <td>7.18.19 12:39</td>\n",
       "      <td>11.6</td>\n",
       "    </tr>\n",
       "    <tr>\n",
       "      <th>12</th>\n",
       "      <td>13</td>\n",
       "      <td>-105.139160</td>\n",
       "      <td>42.666281</td>\n",
       "      <td>7.18.19 16:38</td>\n",
       "      <td>4.5</td>\n",
       "      <td>7.18.19 18:03</td>\n",
       "      <td>16.0</td>\n",
       "    </tr>\n",
       "    <tr>\n",
       "      <th>13</th>\n",
       "      <td>14</td>\n",
       "      <td>-108.083496</td>\n",
       "      <td>43.245203</td>\n",
       "      <td>7.18.19 20:27</td>\n",
       "      <td>10.9</td>\n",
       "      <td>7.19.19 8:14</td>\n",
       "      <td>10.9</td>\n",
       "    </tr>\n",
       "    <tr>\n",
       "      <th>14</th>\n",
       "      <td>15</td>\n",
       "      <td>-108.050537</td>\n",
       "      <td>44.465151</td>\n",
       "      <td>7.19.19 10:07</td>\n",
       "      <td>8.0</td>\n",
       "      <td>7.19.19 10:27</td>\n",
       "      <td>8.0</td>\n",
       "    </tr>\n",
       "    <tr>\n",
       "      <th>15</th>\n",
       "      <td>16</td>\n",
       "      <td>-110.269775</td>\n",
       "      <td>44.504341</td>\n",
       "      <td>7.19.19 12:49</td>\n",
       "      <td>4.2</td>\n",
       "      <td>NaN</td>\n",
       "      <td>NaN</td>\n",
       "    </tr>\n",
       "  </tbody>\n",
       "</table>\n",
       "</div>"
      ],
      "text/plain": [
       "    Location   Longitude   Latitude        Arrived  \\\n",
       "0          1  -75.948486  41.054502            NaN   \n",
       "1          2  -80.837402  41.112469  7.16.19 13:02   \n",
       "2          3  -82.122803  41.393294  7.16.19 15:10   \n",
       "3          4  -85.034180  41.697526  7.16.19 17:38   \n",
       "4          5  -87.297363  41.574361  7.16.19 21:40   \n",
       "5          6  -89.187012  41.368564   7.17.19 9:22   \n",
       "6          7  -91.647949  41.672912  7.17.19 12:28   \n",
       "7          8  -93.614502  41.607228  7.17.19 14:41   \n",
       "8          9  -95.910645  41.483891  7.17.19 16:57   \n",
       "9         10  -96.405029  42.463993  7.17.19 19:01   \n",
       "10        11  -98.448486  42.317939  7.17.19 21:05   \n",
       "11        12 -100.788574  42.892064  7.18.19 10:51   \n",
       "12        13 -105.139160  42.666281  7.18.19 16:38   \n",
       "13        14 -108.083496  43.245203  7.18.19 20:27   \n",
       "14        15 -108.050537  44.465151  7.19.19 10:07   \n",
       "15        16 -110.269775  44.504341  7.19.19 12:49   \n",
       "\n",
       "    Gallons of Gas in Tank at Arrival       Departed  \\\n",
       "0                                 NaN   7.16.19 7:33   \n",
       "1                                 6.8  7.16.19 13:48   \n",
       "2                                13.7  7.16.19 15:17   \n",
       "3                                 8.6  7.16.19 19:09   \n",
       "4                                 4.1   7.17.19 7:46   \n",
       "5                                13.0   7.17.19 9:46   \n",
       "6                                 8.2  7.17.19 13:06   \n",
       "7                                 4.9  7.17.19 14:46   \n",
       "8                                12.2  7.17.19 17:53   \n",
       "9                                 9.7  7.17.19 19:14   \n",
       "10                                6.3   7.18.19 8:35   \n",
       "11                               11.6  7.18.19 12:39   \n",
       "12                                4.5  7.18.19 18:03   \n",
       "13                               10.9   7.19.19 8:14   \n",
       "14                                8.0  7.19.19 10:27   \n",
       "15                                4.2            NaN   \n",
       "\n",
       "    Gallons of Gas in Tank at Departure  \n",
       "0                                  16.0  \n",
       "1                                  16.0  \n",
       "2                                  13.7  \n",
       "3                                   8.6  \n",
       "4                                  16.0  \n",
       "5                                  13.0  \n",
       "6                                   8.2  \n",
       "7                                  16.0  \n",
       "8                                  12.2  \n",
       "9                                   9.7  \n",
       "10                                 16.0  \n",
       "11                                 11.6  \n",
       "12                                 16.0  \n",
       "13                                 10.9  \n",
       "14                                  8.0  \n",
       "15                                  NaN  "
      ]
     },
     "execution_count": 163,
     "metadata": {},
     "output_type": "execute_result"
    }
   ],
   "source": [
    "dados"
   ]
  },
  {
   "cell_type": "markdown",
   "metadata": {},
   "source": [
    "## Find the average miles per gallon for the segment of the trip where Jim and Pam had the highest average speed."
   ]
  },
  {
   "cell_type": "code",
   "execution_count": 164,
   "metadata": {},
   "outputs": [],
   "source": [
    "# 1-Criando dataframe vazio para armazenar calculo de distancia entre os pontos "
   ]
  },
  {
   "cell_type": "code",
   "execution_count": 165,
   "metadata": {},
   "outputs": [],
   "source": [
    "dfDist = pd.DataFrame()"
   ]
  },
  {
   "cell_type": "code",
   "execution_count": 166,
   "metadata": {},
   "outputs": [],
   "source": [
    "# 2-Calculo de distancia entre os pontos."
   ]
  },
  {
   "cell_type": "code",
   "execution_count": 167,
   "metadata": {},
   "outputs": [
    {
     "name": "stdout",
     "output_type": "stream",
     "text": [
      "255\n"
     ]
    }
   ],
   "source": [
    "# 1 - 2 \n",
    "x = (41.054502,-75.948486)\n",
    "y = (41.112469,-80.837402)\n",
    "a = round(geopy.distance.geodesic(x,y).miles)\n",
    "dfDist.insert(loc=0,column='|1-->2]mi',value=[a])\n",
    "print(a)"
   ]
  },
  {
   "cell_type": "code",
   "execution_count": 168,
   "metadata": {},
   "outputs": [
    {
     "name": "stdout",
     "output_type": "stream",
     "text": [
      "70\n"
     ]
    }
   ],
   "source": [
    "# 2 - 3\n",
    "x = (41.112469,-80.837402)\n",
    "y = (41.393294,-82.122803)\n",
    "a = round(geopy.distance.geodesic(x,y).miles)\n",
    "dfDist.insert(loc=1,column='|2-->3]mi',value=[a])\n",
    "print(a)"
   ]
  },
  {
   "cell_type": "code",
   "execution_count": 169,
   "metadata": {},
   "outputs": [
    {
     "name": "stdout",
     "output_type": "stream",
     "text": [
      "152\n"
     ]
    }
   ],
   "source": [
    "# 3 - 4\n",
    "x = (41.393294,-82.122803)\n",
    "y = (41.697526,-85.034180)\n",
    "a = round(geopy.distance.geodesic(x,y).miles)\n",
    "dfDist.insert(loc=2,column='|3-->4]mi',value=[a])\n",
    "print(a)"
   ]
  },
  {
   "cell_type": "code",
   "execution_count": 170,
   "metadata": {},
   "outputs": [
    {
     "name": "stdout",
     "output_type": "stream",
     "text": [
      "117\n"
     ]
    }
   ],
   "source": [
    "# 4 - 5 \n",
    "x = (41.697526,-85.034180)\n",
    "y = (41.574361,-87.297363)\n",
    "a = round(geopy.distance.geodesic(x,y).miles)\n",
    "dfDist.insert(loc=3,column='|4-->5]mi',value=[a])\n",
    "print(a)"
   ]
  },
  {
   "cell_type": "code",
   "execution_count": 171,
   "metadata": {},
   "outputs": [
    {
     "name": "stdout",
     "output_type": "stream",
     "text": [
      "99\n"
     ]
    }
   ],
   "source": [
    "# 5 - 6 \n",
    "x = (41.574361,-87.297363)\n",
    "y = (41.368564,-89.187012)\n",
    "a = round(geopy.distance.geodesic(x,y).miles)\n",
    "dfDist.insert(loc=4,column='|5-->6]mi',value=[a])\n",
    "print(a)"
   ]
  },
  {
   "cell_type": "code",
   "execution_count": 172,
   "metadata": {},
   "outputs": [
    {
     "name": "stdout",
     "output_type": "stream",
     "text": [
      "129\n"
     ]
    }
   ],
   "source": [
    "# 6 - 7 \n",
    "x = (41.368564,-89.187012)\n",
    "y = (41.672912,-91.647949)\n",
    "a = round(geopy.distance.geodesic(x,y).miles)\n",
    "dfDist.insert(loc=5,column='|6-->7]mi',value=[a])\n",
    "print(a)\n"
   ]
  },
  {
   "cell_type": "code",
   "execution_count": 173,
   "metadata": {},
   "outputs": [
    {
     "name": "stdout",
     "output_type": "stream",
     "text": [
      "102\n"
     ]
    }
   ],
   "source": [
    "# 7 - 8 \n",
    "x = (41.672912,-91.647949)\n",
    "y = (41.607228,-93.614502)\n",
    "a = round(geopy.distance.geodesic(x,y).miles)\n",
    "dfDist.insert(loc=6,column='|7-->8]mi',value=[a])\n",
    "print(a)"
   ]
  },
  {
   "cell_type": "code",
   "execution_count": 174,
   "metadata": {},
   "outputs": [
    {
     "name": "stdout",
     "output_type": "stream",
     "text": [
      "119\n"
     ]
    }
   ],
   "source": [
    "# 8 - 9 \n",
    "x = (41.607228,-93.614502)\n",
    "y = (41.483891,-95.910645)\n",
    "a = round(geopy.distance.geodesic(x,y).miles)\n",
    "dfDist.insert(loc=7,column='|8-->9]mi',value=[a])\n",
    "print(a)"
   ]
  },
  {
   "cell_type": "code",
   "execution_count": 175,
   "metadata": {},
   "outputs": [
    {
     "name": "stdout",
     "output_type": "stream",
     "text": [
      "72\n"
     ]
    }
   ],
   "source": [
    "\n",
    "# 9 - 10 \n",
    "x = (41.483891,-95.910645)\n",
    "y = (42.463993,-96.405029)\n",
    "a = round(geopy.distance.geodesic(x,y).miles)\n",
    "dfDist.insert(loc=8,column='|9-->10]mi',value=[a])\n",
    "print(a)"
   ]
  },
  {
   "cell_type": "code",
   "execution_count": 176,
   "metadata": {},
   "outputs": [
    {
     "name": "stdout",
     "output_type": "stream",
     "text": [
      "105\n"
     ]
    }
   ],
   "source": [
    "# 10 - 11 \n",
    "x = (42.463993,-96.405029)\n",
    "y = (42.317939,-98.448486)\n",
    "a = round(geopy.distance.geodesic(x,y).miles)\n",
    "dfDist.insert(loc=9,column='|10-->11]mi',value=[a])\n",
    "print(a)"
   ]
  },
  {
   "cell_type": "code",
   "execution_count": 177,
   "metadata": {},
   "outputs": [
    {
     "name": "stdout",
     "output_type": "stream",
     "text": [
      "126\n"
     ]
    }
   ],
   "source": [
    "# 11 - 12 \n",
    "x = (42.317939,-98.448486)\n",
    "y = (42.892064,-100.788574)\n",
    "a = round(geopy.distance.geodesic(x,y).miles)\n",
    "dfDist.insert(loc=10,column='|11-->12]mi',value=[a])\n",
    "print(a)"
   ]
  },
  {
   "cell_type": "code",
   "execution_count": 178,
   "metadata": {},
   "outputs": [
    {
     "name": "stdout",
     "output_type": "stream",
     "text": [
      "222\n"
     ]
    }
   ],
   "source": [
    "# 12 - 13 \n",
    "x = (42.892064,-100.788574)\n",
    "y = (42.666281,-105.139160)\n",
    "a = round(geopy.distance.geodesic(x,y).miles)\n",
    "dfDist.insert(loc=11,column='|12-->13]mi',value=[a])\n",
    "print(a)"
   ]
  },
  {
   "cell_type": "code",
   "execution_count": 179,
   "metadata": {},
   "outputs": [
    {
     "name": "stdout",
     "output_type": "stream",
     "text": [
      "155\n"
     ]
    }
   ],
   "source": [
    "# 13 - 14 \n",
    "x = (42.666281,-105.139160)\n",
    "y = (43.245203,-108.083496)\n",
    "a = round(geopy.distance.geodesic(x,y).miles)\n",
    "dfDist.insert(loc=12,column='|13-->14]mi',value=[a])\n",
    "print(a)"
   ]
  },
  {
   "cell_type": "code",
   "execution_count": 180,
   "metadata": {},
   "outputs": [
    {
     "name": "stdout",
     "output_type": "stream",
     "text": [
      "84\n"
     ]
    }
   ],
   "source": [
    "# 14 - 15 \n",
    "x = (43.245203,-108.083496)\n",
    "y = (44.465151,-108.050537)\n",
    "a = round(geopy.distance.geodesic(x,y).miles)\n",
    "dfDist.insert(loc=13,column='|14-->15]mi',value=[a])\n",
    "print(a)"
   ]
  },
  {
   "cell_type": "code",
   "execution_count": 181,
   "metadata": {},
   "outputs": [
    {
     "name": "stdout",
     "output_type": "stream",
     "text": [
      "110\n"
     ]
    }
   ],
   "source": [
    "# 15 - 16 \n",
    "x = (44.465151,-108.050537)\n",
    "y = (44.504341,-110.269775)\n",
    "a = round(geopy.distance.geodesic(x,y).miles)\n",
    "dfDist.insert(loc=14,column='|15-->16]mi',value=[a])\n",
    "print(a)\n",
    " "
   ]
  },
  {
   "cell_type": "code",
   "execution_count": 238,
   "metadata": {},
   "outputs": [],
   "source": [
    "# 3- DataFrame com as Distancia por intervalo(mi)"
   ]
  },
  {
   "cell_type": "code",
   "execution_count": 183,
   "metadata": {},
   "outputs": [
    {
     "data": {
      "text/html": [
       "<div>\n",
       "<style scoped>\n",
       "    .dataframe tbody tr th:only-of-type {\n",
       "        vertical-align: middle;\n",
       "    }\n",
       "\n",
       "    .dataframe tbody tr th {\n",
       "        vertical-align: top;\n",
       "    }\n",
       "\n",
       "    .dataframe thead th {\n",
       "        text-align: right;\n",
       "    }\n",
       "</style>\n",
       "<table border=\"1\" class=\"dataframe\">\n",
       "  <thead>\n",
       "    <tr style=\"text-align: right;\">\n",
       "      <th></th>\n",
       "      <th>|1--&gt;2]mi</th>\n",
       "      <th>|2--&gt;3]mi</th>\n",
       "      <th>|3--&gt;4]mi</th>\n",
       "      <th>|4--&gt;5]mi</th>\n",
       "      <th>|5--&gt;6]mi</th>\n",
       "      <th>|6--&gt;7]mi</th>\n",
       "      <th>|7--&gt;8]mi</th>\n",
       "      <th>|8--&gt;9]mi</th>\n",
       "      <th>|9--&gt;10]mi</th>\n",
       "      <th>|10--&gt;11]mi</th>\n",
       "      <th>|11--&gt;12]mi</th>\n",
       "      <th>|12--&gt;13]mi</th>\n",
       "      <th>|13--&gt;14]mi</th>\n",
       "      <th>|14--&gt;15]mi</th>\n",
       "      <th>|15--&gt;16]mi</th>\n",
       "    </tr>\n",
       "  </thead>\n",
       "  <tbody>\n",
       "    <tr>\n",
       "      <th>0</th>\n",
       "      <td>255</td>\n",
       "      <td>70</td>\n",
       "      <td>152</td>\n",
       "      <td>117</td>\n",
       "      <td>99</td>\n",
       "      <td>129</td>\n",
       "      <td>102</td>\n",
       "      <td>119</td>\n",
       "      <td>72</td>\n",
       "      <td>105</td>\n",
       "      <td>126</td>\n",
       "      <td>222</td>\n",
       "      <td>155</td>\n",
       "      <td>84</td>\n",
       "      <td>110</td>\n",
       "    </tr>\n",
       "  </tbody>\n",
       "</table>\n",
       "</div>"
      ],
      "text/plain": [
       "   |1-->2]mi  |2-->3]mi  |3-->4]mi  |4-->5]mi  |5-->6]mi  |6-->7]mi  \\\n",
       "0        255         70        152        117         99        129   \n",
       "\n",
       "   |7-->8]mi  |8-->9]mi  |9-->10]mi  |10-->11]mi  |11-->12]mi  |12-->13]mi  \\\n",
       "0        102        119          72          105          126          222   \n",
       "\n",
       "   |13-->14]mi  |14-->15]mi  |15-->16]mi  \n",
       "0          155           84          110  "
      ]
     },
     "execution_count": 183,
     "metadata": {},
     "output_type": "execute_result"
    }
   ],
   "source": [
    "dfDist"
   ]
  },
  {
   "cell_type": "markdown",
   "metadata": {},
   "source": [
    "### Highest average speed "
   ]
  },
  {
   "cell_type": "markdown",
   "metadata": {},
   "source": [
    "##### ->  Descobrir o tempo do percurso\n",
    "##### ->  Descobrir a velocidade media\n",
    "##### ->  Inserir velocia media em novo dataframe"
   ]
  },
  {
   "cell_type": "code",
   "execution_count": 195,
   "metadata": {},
   "outputs": [],
   "source": [
    "# 4 -Criando dataframe vazio para armazenar velocidade media entre os pontos \n",
    "#   -> Conversão da data em horas\n",
    "#   -> Calculo da velocidade media \n",
    "#   -> Passando os dados para dataframe"
   ]
  },
  {
   "cell_type": "code",
   "execution_count": 196,
   "metadata": {},
   "outputs": [],
   "source": [
    "dfVelocm = pd.DataFrame()"
   ]
  },
  {
   "cell_type": "code",
   "execution_count": 197,
   "metadata": {},
   "outputs": [
    {
     "name": "stdout",
     "output_type": "stream",
     "text": [
      "5.48\n",
      "46.53\n"
     ]
    }
   ],
   "source": [
    "# 1 - 2 -> [46.53284672]\n",
    "\n",
    "# Conversão da data em horas \n",
    "t1 = pd.to_datetime('7/16/19  7:33')\n",
    "t2 = pd.to_datetime('7/16/19 13:02')\n",
    "temp = round((pd.Timedelta(t2-t1).seconds/3600),2)\n",
    "# Calculo da velocidade media \n",
    "vm = round(int(dfDist.loc[:,'|1-->2]mi'])/temp,2)\n",
    "# Passando os dados para dataframe\n",
    "dfVelocm.insert(loc=0,column='Vm= 1-->2|',value=[vm])"
   ]
  },
  {
   "cell_type": "code",
   "execution_count": 198,
   "metadata": {},
   "outputs": [],
   "source": [
    "# 2 - 3  [51.09489051]\n",
    "t1 = pd.to_datetime('7.16.19 13:48')\n",
    "t2 = pd.to_datetime('7.16.19 15:10')\n",
    "temp =round((pd.Timedelta(t2-t1).seconds/3600),2)\n",
    "vm = round(int(dfDist.loc[:,'|2-->3]mi'])/temp,2)\n",
    "dfVelocm.insert(loc=1,column='Vm= 2-->3|',value=[vm])"
   ]
  },
  {
   "cell_type": "code",
   "execution_count": 199,
   "metadata": {},
   "outputs": [],
   "source": [
    "# 3 - 4 [64.68085106]\n",
    "t1 = pd.to_datetime('7.16.19   15:17')\n",
    "t2 = pd.to_datetime('7.16.19   17:38')\n",
    "temp =round((pd.Timedelta(t2-t1).seconds/3600),2)\n",
    "vm = round(int(dfDist.loc[:,'|3-->4]mi'])/temp,2)\n",
    "dfVelocm.insert(loc=2,column='Vm= 3-->4]',value=[vm])"
   ]
  },
  {
   "cell_type": "code",
   "execution_count": 200,
   "metadata": {},
   "outputs": [],
   "source": [
    "# 4 - 5 [46.42857143]\n",
    "t1 = pd.to_datetime('7.16.19 19:09')\n",
    "t2 = pd.to_datetime('7.16.19 21:40')\n",
    "temp =round((pd.Timedelta(t2-t1).seconds/3600),2)\n",
    "vm = round(int(dfDist.loc[:,'|4-->5]mi'])/temp,2)\n",
    "dfVelocm.insert(loc=3,column='Vm= 4-->5]',value=[vm])"
   ]
  },
  {
   "cell_type": "code",
   "execution_count": 201,
   "metadata": {},
   "outputs": [],
   "source": [
    "# 5 - 6 [61.875]\n",
    "t1 = pd.to_datetime('7.17.19 7:46')\n",
    "t2 = pd.to_datetime('7.17.19 9:22')\n",
    "temp =round((pd.Timedelta(t2-t1).seconds/3600),2)\n",
    "vm = round(int(dfDist.loc[:,'|5-->6]mi'])/temp,2)\n",
    "dfVelocm.insert(loc=4,column='Vm= 5-->6]',value=[vm])"
   ]
  },
  {
   "cell_type": "code",
   "execution_count": 205,
   "metadata": {},
   "outputs": [],
   "source": [
    "# 6 - 7\n",
    "t1 = pd.to_datetime('7.17.19  9:46')\n",
    "t2 = pd.to_datetime('7.17.19 12:28')\n",
    "temp =round((pd.Timedelta(t2-t1).seconds/3600),2)\n",
    "vm = round(int(dfDist.loc[:,'|6-->7]mi'])/temp,2)\n",
    "dfVelocm.insert(loc=5,column='Vm= 6-->7]',value=[vm])\n"
   ]
  },
  {
   "cell_type": "code",
   "execution_count": 206,
   "metadata": {},
   "outputs": [],
   "source": [
    "# 7 - 8 [64.55696203]\n",
    "t1 = pd.to_datetime('7.17.19 13:06')\n",
    "t2 = pd.to_datetime('7.17.19 14:41')\n",
    "temp =round((pd.Timedelta(t2-t1).seconds/3600),2)\n",
    "vm = round(int(dfDist.loc[:,'|7-->8]mi'])/temp,2)\n",
    "dfVelocm.insert(loc=6,column='Vm= 7-->8]',value=[vm])"
   ]
  },
  {
   "cell_type": "code",
   "execution_count": 207,
   "metadata": {},
   "outputs": [],
   "source": [
    "# 8 - 9 [54.58715596]\n",
    "t1 = pd.to_datetime('7.17.19 14:46')\n",
    "t2 = pd.to_datetime('7.17.19 16:57')\n",
    "temp =round((pd.Timedelta(t2-t1).seconds/3600),2)\n",
    "vm = round(int(dfDist.loc[:,'|8-->9]mi'])/temp,2)\n",
    "dfVelocm.insert(loc=7,column='Vm= 8-->9]',value=[vm])"
   ]
  },
  {
   "cell_type": "code",
   "execution_count": 208,
   "metadata": {},
   "outputs": [],
   "source": [
    "# 9 - 10 [63.71681416]\n",
    "t1 = pd.to_datetime('7.17.19 17:53')\n",
    "t2 = pd.to_datetime('7.17.19 19:01')\n",
    "temp =round((pd.Timedelta(t2-t1).seconds/3600),2)\n",
    "vm = round(int(dfDist.loc[:,'|9-->10]mi'])/temp,2)\n",
    "dfVelocm.insert(loc=8,column='Vm= 9-->10]',value=[vm])"
   ]
  },
  {
   "cell_type": "code",
   "execution_count": 209,
   "metadata": {},
   "outputs": [],
   "source": [
    "# 10 - 11 [56.75675676]\n",
    "t1 = pd.to_datetime('7.17.19 19:14')\n",
    "t2 = pd.to_datetime('7.17.19 21:05')\n",
    "temp =round((pd.Timedelta(t2-t1).seconds/3600),2)\n",
    "vm = round(int(dfDist.loc[:,'|10-->11]mi'])/temp,2)\n",
    "dfVelocm.insert(loc=9,column='Vm= 10-->11]',value=[vm])"
   ]
  },
  {
   "cell_type": "code",
   "execution_count": 210,
   "metadata": {},
   "outputs": [],
   "source": [
    "# 11 - 12 [55.50660793]\n",
    "t1 = pd.to_datetime('7.18.19 8:35')\n",
    "t2 = pd.to_datetime('7.18.19 10:51')\n",
    "temp =round((pd.Timedelta(t2-t1).seconds/3600),2)\n",
    "vm = round(int(dfDist.loc[:,'|11-->12]mi'])/temp,2)\n",
    "dfVelocm.insert(loc=10,column='Vm= 11-->12]',value=[vm])"
   ]
  },
  {
   "cell_type": "code",
   "execution_count": 211,
   "metadata": {},
   "outputs": [],
   "source": [
    "# 12 - 13 [55.77889447]\n",
    "t1 = pd.to_datetime('7.18.19 12:39')\n",
    "t2 = pd.to_datetime('7.18.19 16:38')\n",
    "temp =round((pd.Timedelta(t2-t1).seconds/3600),2)\n",
    "vm = round(int(dfDist.loc[:,'|12-->13]mi'])/temp,2)\n",
    "dfVelocm.insert(loc=11,column='Vm= 12-->13]',value=[vm])"
   ]
  },
  {
   "cell_type": "code",
   "execution_count": 212,
   "metadata": {},
   "outputs": [],
   "source": [
    "# 13 - 14 [64.58333333]\n",
    "t1 = pd.to_datetime('7.18.19 18:03')\n",
    "t2 = pd.to_datetime('7.18.19 20:27')\n",
    "temp =round((pd.Timedelta(t2-t1).seconds/3600),2)\n",
    "vm = round(int(dfDist.loc[:,'|13-->14]mi'])/temp,2)\n",
    "dfVelocm.insert(loc=12,column='Vm= 13-->14]',value=[vm])"
   ]
  },
  {
   "cell_type": "code",
   "execution_count": 213,
   "metadata": {},
   "outputs": [],
   "source": [
    "# 14 - 15 [44.68085106]\n",
    "t1 = pd.to_datetime('7.19.19  8:14')\n",
    "t2 = pd.to_datetime('7.19.19 10:07')\n",
    "temp =round((pd.Timedelta(t2-t1).seconds/3600),2)\n",
    "vm = round(int(dfDist.loc[:,'|14-->15]mi'])/temp,2)\n",
    "dfVelocm.insert(loc=13,column='Vm= 14-->15]',value=[vm])"
   ]
  },
  {
   "cell_type": "code",
   "execution_count": 214,
   "metadata": {},
   "outputs": [],
   "source": [
    "# 15 - 16 [46.41350211]\n",
    "t1 = pd.to_datetime('7.19.19 10:27')\n",
    "t2 = pd.to_datetime('7.19.19 12:49')\n",
    "temp =round((pd.Timedelta(t2-t1).seconds/3600),2)\n",
    "vm = round(int(dfDist.loc[:,'|15-->16]mi'])/temp,2)\n",
    "dfVelocm.insert(loc=14,column='Vm=15-->16]',value=[vm])"
   ]
  },
  {
   "cell_type": "markdown",
   "metadata": {},
   "source": [
    "### Data Frame velocidade media "
   ]
  },
  {
   "cell_type": "code",
   "execution_count": 215,
   "metadata": {},
   "outputs": [
    {
     "data": {
      "text/html": [
       "<div>\n",
       "<style scoped>\n",
       "    .dataframe tbody tr th:only-of-type {\n",
       "        vertical-align: middle;\n",
       "    }\n",
       "\n",
       "    .dataframe tbody tr th {\n",
       "        vertical-align: top;\n",
       "    }\n",
       "\n",
       "    .dataframe thead th {\n",
       "        text-align: right;\n",
       "    }\n",
       "</style>\n",
       "<table border=\"1\" class=\"dataframe\">\n",
       "  <thead>\n",
       "    <tr style=\"text-align: right;\">\n",
       "      <th></th>\n",
       "      <th>Vm= 1--&gt;2|</th>\n",
       "      <th>Vm= 2--&gt;3|</th>\n",
       "      <th>Vm= 3--&gt;4]</th>\n",
       "      <th>Vm= 4--&gt;5]</th>\n",
       "      <th>Vm= 5--&gt;6]</th>\n",
       "      <th>Vm= 6--&gt;7]</th>\n",
       "      <th>Vm= 7--&gt;8]</th>\n",
       "      <th>Vm= 8--&gt;9]</th>\n",
       "      <th>Vm= 9--&gt;10]</th>\n",
       "      <th>Vm= 10--&gt;11]</th>\n",
       "      <th>Vm= 11--&gt;12]</th>\n",
       "      <th>Vm= 12--&gt;13]</th>\n",
       "      <th>Vm= 13--&gt;14]</th>\n",
       "      <th>Vm= 14--&gt;15]</th>\n",
       "      <th>Vm=15--&gt;16]</th>\n",
       "    </tr>\n",
       "  </thead>\n",
       "  <tbody>\n",
       "    <tr>\n",
       "      <th>0</th>\n",
       "      <td>46.53</td>\n",
       "      <td>51.09</td>\n",
       "      <td>64.68</td>\n",
       "      <td>46.43</td>\n",
       "      <td>61.88</td>\n",
       "      <td>47.78</td>\n",
       "      <td>64.56</td>\n",
       "      <td>54.59</td>\n",
       "      <td>63.72</td>\n",
       "      <td>56.76</td>\n",
       "      <td>55.51</td>\n",
       "      <td>55.78</td>\n",
       "      <td>64.58</td>\n",
       "      <td>44.68</td>\n",
       "      <td>46.41</td>\n",
       "    </tr>\n",
       "  </tbody>\n",
       "</table>\n",
       "</div>"
      ],
      "text/plain": [
       "   Vm= 1-->2|  Vm= 2-->3|  Vm= 3-->4]  Vm= 4-->5]  Vm= 5-->6]  Vm= 6-->7]  \\\n",
       "0       46.53       51.09       64.68       46.43       61.88       47.78   \n",
       "\n",
       "   Vm= 7-->8]  Vm= 8-->9]  Vm= 9-->10]  Vm= 10-->11]  Vm= 11-->12]  \\\n",
       "0       64.56       54.59        63.72         56.76         55.51   \n",
       "\n",
       "   Vm= 12-->13]  Vm= 13-->14]  Vm= 14-->15]  Vm=15-->16]  \n",
       "0         55.78         64.58         44.68        46.41  "
      ]
     },
     "execution_count": 215,
     "metadata": {},
     "output_type": "execute_result"
    }
   ],
   "source": [
    "dfVelocm"
   ]
  },
  {
   "cell_type": "markdown",
   "metadata": {},
   "source": [
    "## Average miles per gallon"
   ]
  },
  {
   "cell_type": "code",
   "execution_count": 218,
   "metadata": {},
   "outputs": [],
   "source": [
    "## Here’s an example: 312 miles driven ÷ 16 gallons fueled = 19.5mpg"
   ]
  },
  {
   "cell_type": "code",
   "execution_count": 220,
   "metadata": {},
   "outputs": [],
   "source": [
    "# 9 -Criando dataframe vazio para armazenar mpg(milhas médias por galão)\n",
    "#   -> Calculando a diferenca de galão de gas entre os pontos \n",
    "#   -> Calculo do mpg(milhas médias por galão)\n",
    "#   -> Passando os dados mpg para o dataframe vazio"
   ]
  },
  {
   "cell_type": "code",
   "execution_count": 221,
   "metadata": {},
   "outputs": [],
   "source": [
    "dfmpg = pd.DataFrame()"
   ]
  },
  {
   "cell_type": "code",
   "execution_count": 222,
   "metadata": {},
   "outputs": [],
   "source": [
    "# 1 - 2 \n",
    "\n",
    "# Selecionando posicoes dos galoes \n",
    "x = dados.loc[0,'Gallons of Gas in Tank at Departure']\n",
    "y = dados.loc[1,'Gallons of Gas in Tank at Arrival']\n",
    "\n",
    "# Calculando diferenca entre o consumo dos galoes\n",
    "gallon = x-y\n",
    "\n",
    "# Calculando mpg(milhas médias por galão)\n",
    "mpg = round(dfDist.loc[0,'|1-->2]mi']/gallon,2)\n",
    "\n",
    "# Inserindo o valor de 'mpg' dentro do dataframe \n",
    "dfmpg.insert(loc=0,column='mpg=1-->2]',value=[mpg])\n"
   ]
  },
  {
   "cell_type": "code",
   "execution_count": 223,
   "metadata": {},
   "outputs": [],
   "source": [
    "# 2 - 3\n",
    "x = dados.loc[1,'Gallons of Gas in Tank at Departure']\n",
    "y = dados.loc[2,'Gallons of Gas in Tank at Arrival']\n",
    "gallon = x-y\n",
    "mpg = round(int(dfDist.loc[:,'|2-->3]mi'])/gallon,2)\n",
    "dfmpg.insert(loc=1,column='mpg=2-->3]',value=[mpg])"
   ]
  },
  {
   "cell_type": "code",
   "execution_count": 224,
   "metadata": {},
   "outputs": [],
   "source": [
    "# 3 - 4\n",
    "x = dados.loc[2,'Gallons of Gas in Tank at Departure']\n",
    "y = dados.loc[3,'Gallons of Gas in Tank at Arrival']\n",
    "gallon = x-y\n",
    "mpg = round(int(dfDist.loc[:,'|3-->4]mi'])/gallon,2)\n",
    "dfmpg.insert(loc=2,column='mpg=3-->4]',value=[mpg])"
   ]
  },
  {
   "cell_type": "code",
   "execution_count": 225,
   "metadata": {},
   "outputs": [],
   "source": [
    "# 4 - 5\n",
    "x = dados.loc[3,'Gallons of Gas in Tank at Departure']\n",
    "y = dados.loc[4,'Gallons of Gas in Tank at Arrival']\n",
    "gallon = x-y\n",
    "mpg = round(int(dfDist.loc[:,'|4-->5]mi'])/gallon,2)\n",
    "dfmpg.insert(loc=3,column='mpg=4-->5]',value=[mpg])"
   ]
  },
  {
   "cell_type": "code",
   "execution_count": 226,
   "metadata": {},
   "outputs": [],
   "source": [
    "# 5 - 6 \n",
    "x = dados.loc[4,'Gallons of Gas in Tank at Departure']\n",
    "y = dados.loc[5,'Gallons of Gas in Tank at Arrival']\n",
    "gallon = x-y\n",
    "mpg = round(int(dfDist.loc[:,'|5-->6]mi'])/gallon,2)\n",
    "dfmpg.insert(loc=4,column='mpg=5-->6]',value=[mpg])\n"
   ]
  },
  {
   "cell_type": "code",
   "execution_count": 227,
   "metadata": {},
   "outputs": [],
   "source": [
    "# 6 - 7 \n",
    "x = dados.loc[5,'Gallons of Gas in Tank at Departure']\n",
    "y = dados.loc[6,'Gallons of Gas in Tank at Arrival']\n",
    "gallon = x-y\n",
    "mpg = round(int(dfDist.loc[:,'|6-->7]mi'])/gallon,2)\n",
    "dfmpg.insert(loc=5,column='mpg=6-->7]',value=[mpg])"
   ]
  },
  {
   "cell_type": "code",
   "execution_count": 228,
   "metadata": {},
   "outputs": [],
   "source": [
    "# 7- 8 \n",
    "x = dados.loc[6,'Gallons of Gas in Tank at Departure']\n",
    "y = dados.loc[7,'Gallons of Gas in Tank at Arrival']\n",
    "gallon = x-y\n",
    "mpg = round(int(dfDist.loc[:,'|7-->8]mi'])/gallon,2)\n",
    "dfmpg.insert(loc=6,column='mpg=7-->8]',value=[mpg])"
   ]
  },
  {
   "cell_type": "code",
   "execution_count": 229,
   "metadata": {},
   "outputs": [],
   "source": [
    "# 8 - 9\n",
    "x = dados.loc[7,'Gallons of Gas in Tank at Departure']\n",
    "y = dados.loc[8,'Gallons of Gas in Tank at Arrival']\n",
    "gallon = x-y\n",
    "mpg = round(int(dfDist.loc[:,'|8-->9]mi'])/gallon,2)\n",
    "dfmpg.insert(loc=7,column='mpg=8-->9]',value=[mpg])"
   ]
  },
  {
   "cell_type": "code",
   "execution_count": 230,
   "metadata": {},
   "outputs": [],
   "source": [
    "# 9 - 10\n",
    "x = dados.loc[8,'Gallons of Gas in Tank at Departure']\n",
    "y = dados.loc[9,'Gallons of Gas in Tank at Arrival']\n",
    "gallon = x-y\n",
    "mpg = round(int(dfDist.loc[:,'|9-->10]mi'])/gallon,2)\n",
    "dfmpg.insert(loc=8,column='mpg=9-->10]',value=[mpg])"
   ]
  },
  {
   "cell_type": "code",
   "execution_count": 231,
   "metadata": {},
   "outputs": [],
   "source": [
    "# 10 - 11\n",
    "x = dados.loc[9,'Gallons of Gas in Tank at Departure']\n",
    "y = dados.loc[10,'Gallons of Gas in Tank at Arrival']\n",
    "gallon = x-y\n",
    "mpg = round(int(dfDist.loc[:,'|10-->11]mi'])/gallon,2)\n",
    "dfmpg.insert(loc=9,column='mpg=10-->11]',value=[mpg])"
   ]
  },
  {
   "cell_type": "code",
   "execution_count": 232,
   "metadata": {},
   "outputs": [],
   "source": [
    "# 11 - 12\n",
    "x = dados.loc[10,'Gallons of Gas in Tank at Departure']\n",
    "y = dados.loc[11,'Gallons of Gas in Tank at Arrival']\n",
    "gallon = x-y\n",
    "mpg = round(int(dfDist.loc[:,'|11-->12]mi'])/gallon,2)\n",
    "dfmpg.insert(loc=10,column='mpg=11-->12]',value=[mpg])"
   ]
  },
  {
   "cell_type": "code",
   "execution_count": 233,
   "metadata": {},
   "outputs": [],
   "source": [
    "# 12 - 13 \n",
    "x = dados.loc[11,'Gallons of Gas in Tank at Departure']\n",
    "y = dados.loc[12,'Gallons of Gas in Tank at Arrival']\n",
    "gallon = x-y\n",
    "mpg = round(int(dfDist.loc[:,'|12-->13]mi'])/gallon,2)\n",
    "dfmpg.insert(loc=11,column='mpg=12-->13]',value=[mpg])"
   ]
  },
  {
   "cell_type": "code",
   "execution_count": 234,
   "metadata": {},
   "outputs": [],
   "source": [
    "# 13 - 14\n",
    "x = dados.loc[12,'Gallons of Gas in Tank at Departure']\n",
    "y = dados.loc[13,'Gallons of Gas in Tank at Arrival']\n",
    "gallon = x-y\n",
    "mpg = round(int(dfDist.loc[:,'|13-->14]mi'])/gallon,2)\n",
    "dfmpg.insert(loc=12,column='mpg=13-->14]',value=[mpg])"
   ]
  },
  {
   "cell_type": "code",
   "execution_count": 235,
   "metadata": {},
   "outputs": [],
   "source": [
    "# 14 - 15\n",
    "x = dados.loc[13,'Gallons of Gas in Tank at Departure']\n",
    "y = dados.loc[14,'Gallons of Gas in Tank at Arrival']\n",
    "gallon = x-y\n",
    "mpg = round(int(dfDist.loc[:,'|14-->15]mi'])/gallon,2)\n",
    "dfmpg.insert(loc=13,column='mpg=14-->15]',value=[mpg])"
   ]
  },
  {
   "cell_type": "code",
   "execution_count": 236,
   "metadata": {},
   "outputs": [],
   "source": [
    "# 15 - 16\n",
    "x = dados.loc[14,'Gallons of Gas in Tank at Departure']\n",
    "y = dados.loc[15,'Gallons of Gas in Tank at Arrival']\n",
    "gallon = x-y\n",
    "mpg = round(int(dfDist.loc[:,'|15-->16]mi'])/gallon,2)\n",
    "dfmpg.insert(loc=14,column='mpg=15-->16]',value=[mpg])\n"
   ]
  },
  {
   "cell_type": "markdown",
   "metadata": {},
   "source": [
    "#### DataFrame com as Distancia por intervalo(mi)"
   ]
  },
  {
   "cell_type": "code",
   "execution_count": 239,
   "metadata": {},
   "outputs": [
    {
     "data": {
      "text/html": [
       "<div>\n",
       "<style scoped>\n",
       "    .dataframe tbody tr th:only-of-type {\n",
       "        vertical-align: middle;\n",
       "    }\n",
       "\n",
       "    .dataframe tbody tr th {\n",
       "        vertical-align: top;\n",
       "    }\n",
       "\n",
       "    .dataframe thead th {\n",
       "        text-align: right;\n",
       "    }\n",
       "</style>\n",
       "<table border=\"1\" class=\"dataframe\">\n",
       "  <thead>\n",
       "    <tr style=\"text-align: right;\">\n",
       "      <th></th>\n",
       "      <th>|1--&gt;2]mi</th>\n",
       "      <th>|2--&gt;3]mi</th>\n",
       "      <th>|3--&gt;4]mi</th>\n",
       "      <th>|4--&gt;5]mi</th>\n",
       "      <th>|5--&gt;6]mi</th>\n",
       "      <th>|6--&gt;7]mi</th>\n",
       "      <th>|7--&gt;8]mi</th>\n",
       "      <th>|8--&gt;9]mi</th>\n",
       "      <th>|9--&gt;10]mi</th>\n",
       "      <th>|10--&gt;11]mi</th>\n",
       "      <th>|11--&gt;12]mi</th>\n",
       "      <th>|12--&gt;13]mi</th>\n",
       "      <th>|13--&gt;14]mi</th>\n",
       "      <th>|14--&gt;15]mi</th>\n",
       "      <th>|15--&gt;16]mi</th>\n",
       "    </tr>\n",
       "  </thead>\n",
       "  <tbody>\n",
       "    <tr>\n",
       "      <th>0</th>\n",
       "      <td>255</td>\n",
       "      <td>70</td>\n",
       "      <td>152</td>\n",
       "      <td>117</td>\n",
       "      <td>99</td>\n",
       "      <td>129</td>\n",
       "      <td>102</td>\n",
       "      <td>119</td>\n",
       "      <td>72</td>\n",
       "      <td>105</td>\n",
       "      <td>126</td>\n",
       "      <td>222</td>\n",
       "      <td>155</td>\n",
       "      <td>84</td>\n",
       "      <td>110</td>\n",
       "    </tr>\n",
       "  </tbody>\n",
       "</table>\n",
       "</div>"
      ],
      "text/plain": [
       "   |1-->2]mi  |2-->3]mi  |3-->4]mi  |4-->5]mi  |5-->6]mi  |6-->7]mi  \\\n",
       "0        255         70        152        117         99        129   \n",
       "\n",
       "   |7-->8]mi  |8-->9]mi  |9-->10]mi  |10-->11]mi  |11-->12]mi  |12-->13]mi  \\\n",
       "0        102        119          72          105          126          222   \n",
       "\n",
       "   |13-->14]mi  |14-->15]mi  |15-->16]mi  \n",
       "0          155           84          110  "
      ]
     },
     "execution_count": 239,
     "metadata": {},
     "output_type": "execute_result"
    }
   ],
   "source": [
    "dfDist "
   ]
  },
  {
   "cell_type": "markdown",
   "metadata": {},
   "source": [
    "#### Data Frame velocidade media (mi)"
   ]
  },
  {
   "cell_type": "code",
   "execution_count": 259,
   "metadata": {},
   "outputs": [
    {
     "data": {
      "text/html": [
       "<div>\n",
       "<style scoped>\n",
       "    .dataframe tbody tr th:only-of-type {\n",
       "        vertical-align: middle;\n",
       "    }\n",
       "\n",
       "    .dataframe tbody tr th {\n",
       "        vertical-align: top;\n",
       "    }\n",
       "\n",
       "    .dataframe thead th {\n",
       "        text-align: right;\n",
       "    }\n",
       "</style>\n",
       "<table border=\"1\" class=\"dataframe\">\n",
       "  <thead>\n",
       "    <tr style=\"text-align: right;\">\n",
       "      <th></th>\n",
       "      <th>Vm= 1--&gt;2|</th>\n",
       "      <th>Vm= 2--&gt;3|</th>\n",
       "      <th>Vm= 3--&gt;4]</th>\n",
       "      <th>Vm= 4--&gt;5]</th>\n",
       "      <th>Vm= 5--&gt;6]</th>\n",
       "      <th>Vm= 6--&gt;7]</th>\n",
       "      <th>Vm= 7--&gt;8]</th>\n",
       "      <th>Vm= 8--&gt;9]</th>\n",
       "      <th>Vm= 9--&gt;10]</th>\n",
       "      <th>Vm= 10--&gt;11]</th>\n",
       "      <th>Vm= 11--&gt;12]</th>\n",
       "      <th>Vm= 12--&gt;13]</th>\n",
       "      <th>Vm= 13--&gt;14]</th>\n",
       "      <th>Vm= 14--&gt;15]</th>\n",
       "      <th>Vm=15--&gt;16]</th>\n",
       "    </tr>\n",
       "  </thead>\n",
       "  <tbody>\n",
       "    <tr>\n",
       "      <th>0</th>\n",
       "      <td>46.53</td>\n",
       "      <td>51.09</td>\n",
       "      <td>64.68</td>\n",
       "      <td>46.43</td>\n",
       "      <td>61.88</td>\n",
       "      <td>47.78</td>\n",
       "      <td>64.56</td>\n",
       "      <td>54.59</td>\n",
       "      <td>63.72</td>\n",
       "      <td>56.76</td>\n",
       "      <td>55.51</td>\n",
       "      <td>55.78</td>\n",
       "      <td>64.58</td>\n",
       "      <td>44.68</td>\n",
       "      <td>46.41</td>\n",
       "    </tr>\n",
       "  </tbody>\n",
       "</table>\n",
       "</div>"
      ],
      "text/plain": [
       "   Vm= 1-->2|  Vm= 2-->3|  Vm= 3-->4]  Vm= 4-->5]  Vm= 5-->6]  Vm= 6-->7]  \\\n",
       "0       46.53       51.09       64.68       46.43       61.88       47.78   \n",
       "\n",
       "   Vm= 7-->8]  Vm= 8-->9]  Vm= 9-->10]  Vm= 10-->11]  Vm= 11-->12]  \\\n",
       "0       64.56       54.59        63.72         56.76         55.51   \n",
       "\n",
       "   Vm= 12-->13]  Vm= 13-->14]  Vm= 14-->15]  Vm=15-->16]  \n",
       "0         55.78         64.58         44.68        46.41  "
      ]
     },
     "execution_count": 259,
     "metadata": {},
     "output_type": "execute_result"
    }
   ],
   "source": [
    "dfVelocm"
   ]
  },
  {
   "cell_type": "markdown",
   "metadata": {},
   "source": [
    "#### Mpg(milhas médias por galão)"
   ]
  },
  {
   "cell_type": "code",
   "execution_count": 241,
   "metadata": {},
   "outputs": [
    {
     "data": {
      "text/html": [
       "<div>\n",
       "<style scoped>\n",
       "    .dataframe tbody tr th:only-of-type {\n",
       "        vertical-align: middle;\n",
       "    }\n",
       "\n",
       "    .dataframe tbody tr th {\n",
       "        vertical-align: top;\n",
       "    }\n",
       "\n",
       "    .dataframe thead th {\n",
       "        text-align: right;\n",
       "    }\n",
       "</style>\n",
       "<table border=\"1\" class=\"dataframe\">\n",
       "  <thead>\n",
       "    <tr style=\"text-align: right;\">\n",
       "      <th></th>\n",
       "      <th>mpg=1--&gt;2]</th>\n",
       "      <th>mpg=2--&gt;3]</th>\n",
       "      <th>mpg=3--&gt;4]</th>\n",
       "      <th>mpg=4--&gt;5]</th>\n",
       "      <th>mpg=5--&gt;6]</th>\n",
       "      <th>mpg=6--&gt;7]</th>\n",
       "      <th>mpg=7--&gt;8]</th>\n",
       "      <th>mpg=8--&gt;9]</th>\n",
       "      <th>mpg=9--&gt;10]</th>\n",
       "      <th>mpg=10--&gt;11]</th>\n",
       "      <th>mpg=11--&gt;12]</th>\n",
       "      <th>mpg=12--&gt;13]</th>\n",
       "      <th>mpg=13--&gt;14]</th>\n",
       "      <th>mpg=14--&gt;15]</th>\n",
       "      <th>mpg=15--&gt;16]</th>\n",
       "    </tr>\n",
       "  </thead>\n",
       "  <tbody>\n",
       "    <tr>\n",
       "      <th>0</th>\n",
       "      <td>27.72</td>\n",
       "      <td>30.43</td>\n",
       "      <td>29.8</td>\n",
       "      <td>26.0</td>\n",
       "      <td>33.0</td>\n",
       "      <td>26.87</td>\n",
       "      <td>30.91</td>\n",
       "      <td>31.32</td>\n",
       "      <td>28.8</td>\n",
       "      <td>30.88</td>\n",
       "      <td>28.64</td>\n",
       "      <td>31.27</td>\n",
       "      <td>30.39</td>\n",
       "      <td>28.97</td>\n",
       "      <td>28.95</td>\n",
       "    </tr>\n",
       "  </tbody>\n",
       "</table>\n",
       "</div>"
      ],
      "text/plain": [
       "   mpg=1-->2]  mpg=2-->3]  mpg=3-->4]  mpg=4-->5]  mpg=5-->6]  mpg=6-->7]  \\\n",
       "0       27.72       30.43        29.8        26.0        33.0       26.87   \n",
       "\n",
       "   mpg=7-->8]  mpg=8-->9]  mpg=9-->10]  mpg=10-->11]  mpg=11-->12]  \\\n",
       "0       30.91       31.32         28.8         30.88         28.64   \n",
       "\n",
       "   mpg=12-->13]  mpg=13-->14]  mpg=14-->15]  mpg=15-->16]  \n",
       "0         31.27         30.39         28.97         28.95  "
      ]
     },
     "execution_count": 241,
     "metadata": {},
     "output_type": "execute_result"
    }
   ],
   "source": [
    "dfmpg"
   ]
  },
  {
   "cell_type": "markdown",
   "metadata": {},
   "source": [
    "# Respostas"
   ]
  },
  {
   "cell_type": "markdown",
   "metadata": {},
   "source": [
    "### Find the average miles per gallon for the segment of the trip where Jim and Pam had the highest average speed."
   ]
  },
  {
   "cell_type": "code",
   "execution_count": 260,
   "metadata": {},
   "outputs": [
    {
     "data": {
      "text/plain": [
       "64.68"
      ]
     },
     "execution_count": 260,
     "metadata": {},
     "output_type": "execute_result"
    }
   ],
   "source": [
    "highest_average_speed = dfVelocm.values.max()\n",
    "highest_average_speed"
   ]
  },
  {
   "cell_type": "code",
   "execution_count": 261,
   "metadata": {},
   "outputs": [
    {
     "data": {
      "text/plain": [
       "29.8"
      ]
     },
     "execution_count": 261,
     "metadata": {},
     "output_type": "execute_result"
    }
   ],
   "source": [
    "average_miles_per_gallon = float(dfmpg.loc[:,'mpg=3-->4]']) \n",
    "average_miles_per_gallon"
   ]
  },
  {
   "cell_type": "markdown",
   "metadata": {},
   "source": [
    "# Resposta final \n",
    "### Letra D -> 29.79 miles per gallon "
   ]
  },
  {
   "cell_type": "code",
   "execution_count": 258,
   "metadata": {},
   "outputs": [
    {
     "data": {
      "text/plain": [
       "29.8"
      ]
     },
     "execution_count": 258,
     "metadata": {},
     "output_type": "execute_result"
    }
   ],
   "source": [
    "average_miles_per_gallon"
   ]
  },
  {
   "cell_type": "code",
   "execution_count": null,
   "metadata": {},
   "outputs": [],
   "source": []
  }
 ],
 "metadata": {
  "kernelspec": {
   "display_name": "Python 3",
   "language": "python",
   "name": "python3"
  },
  "language_info": {
   "codemirror_mode": {
    "name": "ipython",
    "version": 3
   },
   "file_extension": ".py",
   "mimetype": "text/x-python",
   "name": "python",
   "nbconvert_exporter": "python",
   "pygments_lexer": "ipython3",
   "version": "3.8.6+"
  }
 },
 "nbformat": 4,
 "nbformat_minor": 4
}
